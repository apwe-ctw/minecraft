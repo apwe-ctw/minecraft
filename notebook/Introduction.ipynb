{
 "cells": [
  {
   "cell_type": "code",
   "execution_count": 1,
   "metadata": {
    "collapsed": false,
    "slideshow": {
     "slide_type": "skip"
    }
   },
   "outputs": [],
   "source": [
    "# run this code first, only need to run it once\n",
    "import time\n",
    "import mcpi.minecraft as minecraft\n",
    "import mcpi.block as block\n",
    "import random\n",
    "mc = minecraft.Minecraft.create()"
   ]
  },
  {
   "cell_type": "markdown",
   "metadata": {
    "slideshow": {
     "slide_type": "slide"
    }
   },
   "source": [
    "# Python Basics\n",
    "## A few tips\n",
    "* To execute a cell, click in it and then type [shift] + [enter] or pressing the ▶ button in the toolbar above\n",
    "* If you are stuck, use ◼ in the toolbar to stop! Or press [I],[I]\n",
    "* Press [TAB] to auto-complete Python code\n",
    "* If you need help, try\n",
    "```python\n",
    "help()\n",
    "```"
   ]
  },
  {
   "cell_type": "markdown",
   "metadata": {},
   "source": [
    "## First, try Python as a calculator.\n",
    "\n",
    "Here is some simple math."
   ]
  },
  {
   "cell_type": "code",
   "execution_count": null,
   "metadata": {
    "collapsed": false
   },
   "outputs": [],
   "source": [
    "1 + 1"
   ]
  },
  {
   "cell_type": "code",
   "execution_count": null,
   "metadata": {
    "collapsed": false
   },
   "outputs": [],
   "source": [
    "20 - 4"
   ]
  },
  {
   "cell_type": "markdown",
   "metadata": {},
   "source": [
    "### What about other operators?\n",
    "\n",
    "The arithmetic operators in Python are:\n",
    "```python\n",
    "    +   -   *   /   **   %   //\n",
    "```\n",
    "Can you fix the following?"
   ]
  },
  {
   "cell_type": "code",
   "execution_count": null,
   "metadata": {
    "collapsed": false
   },
   "outputs": [],
   "source": [
    "6 times 7"
   ]
  },
  {
   "cell_type": "code",
   "execution_count": null,
   "metadata": {
    "collapsed": false
   },
   "outputs": [],
   "source": [
    "365 divide 5"
   ]
  },
  {
   "cell_type": "markdown",
   "metadata": {},
   "source": [
    "## Playing with text\n",
    "\n",
    "Text is called ```string``` in the programming world.  What can we do with string?\n",
    "\n",
    "Let's try printing them out!"
   ]
  },
  {
   "cell_type": "code",
   "execution_count": null,
   "metadata": {
    "collapsed": false,
    "slideshow": {
     "slide_type": "subslide"
    }
   },
   "outputs": [],
   "source": [
    "print \"Hello world\""
   ]
  },
  {
   "cell_type": "markdown",
   "metadata": {},
   "source": [
    "You can also print to the Minecraft Chat like this:\n",
    "![hello](screenshots/hello_world.png)\n",
    "\n",
    "❄ Try it!"
   ]
  },
  {
   "cell_type": "code",
   "execution_count": null,
   "metadata": {
    "collapsed": false
   },
   "outputs": [],
   "source": [
    "mc.postToChat(\"Hello Minecraft World\")"
   ]
  },
  {
   "cell_type": "markdown",
   "metadata": {},
   "source": [
    "## A quick look at other types\n",
    "boolean|integer|float|string\n",
    "---|---|---|---\n",
    "True|42|42.0|\"hello\"</tt></td>\n",
    "\n",
    "### What is Boolean?\n",
    "Boolean is either ```True``` or ```False```.  It is usually seen when we do comparison."
   ]
  },
  {
   "cell_type": "code",
   "execution_count": null,
   "metadata": {
    "collapsed": false
   },
   "outputs": [],
   "source": [
    "1 + 1 == 2 # 1+1 is equal to 2"
   ]
  },
  {
   "cell_type": "code",
   "execution_count": null,
   "metadata": {
    "collapsed": false
   },
   "outputs": [],
   "source": [
    "\"star war\" == \"star trek\""
   ]
  },
  {
   "cell_type": "markdown",
   "metadata": {},
   "source": [
    "### Other type of comparisions\n",
    "\n",
    "==|!=|<=, <, >=, >\n",
    "---|---|---\n",
    "equals|not equals|less than or equal to, etc.\n",
    "☺ Give them a try!"
   ]
  },
  {
   "cell_type": "code",
   "execution_count": null,
   "metadata": {
    "collapsed": true
   },
   "outputs": [],
   "source": []
  },
  {
   "cell_type": "markdown",
   "metadata": {},
   "source": [
    "## Variables\n",
    "You can save a number or string to a container called variable and reuse it later"
   ]
  },
  {
   "cell_type": "code",
   "execution_count": null,
   "metadata": {
    "collapsed": false
   },
   "outputs": [],
   "source": [
    "name = \"Minecraft\"\n",
    "age = 5"
   ]
  },
  {
   "cell_type": "code",
   "execution_count": null,
   "metadata": {
    "collapsed": false
   },
   "outputs": [],
   "source": [
    "print name, \"is\", age, \"years old\""
   ]
  },
  {
   "cell_type": "markdown",
   "metadata": {},
   "source": [
    "To print the same to minecraft is a bit more complicated..."
   ]
  },
  {
   "cell_type": "code",
   "execution_count": null,
   "metadata": {
    "collapsed": false,
    "scrolled": true
   },
   "outputs": [],
   "source": [
    "mc.postToChat(name + \" is \" + str(age) + \" years old\")"
   ]
  },
  {
   "cell_type": "markdown",
   "metadata": {},
   "source": [
    "We can save boolean to variables too!"
   ]
  },
  {
   "cell_type": "code",
   "execution_count": null,
   "metadata": {
    "collapsed": true
   },
   "outputs": [],
   "source": [
    "raspberry_pi_is_fun = True\n",
    "raspberry_pi_is_expensive = False"
   ]
  },
  {
   "cell_type": "code",
   "execution_count": null,
   "metadata": {
    "collapsed": false
   },
   "outputs": [],
   "source": [
    "steves_age = 15\n",
    "your_age =  # fill in your age\n",
    "steve_is_older = steves_age > your_age\n",
    "print(steve_is_older)"
   ]
  },
  {
   "cell_type": "markdown",
   "metadata": {},
   "source": [
    "The following code get your current position, save it to a variable named `pos`, then post it back to minecraft.  Try it!"
   ]
  },
  {
   "cell_type": "code",
   "execution_count": null,
   "metadata": {
    "collapsed": true
   },
   "outputs": [],
   "source": [
    "pos = mc.player.getTilePos()\n",
    "mc.postToChat(pos)"
   ]
  },
  {
   "cell_type": "markdown",
   "metadata": {},
   "source": [
    "## If...\n",
    "We can ask questions and decide what to do next with an if statement"
   ]
  },
  {
   "cell_type": "code",
   "execution_count": null,
   "metadata": {
    "collapsed": true
   },
   "outputs": [],
   "source": [
    "pos = mc.player.getTilePos()\n",
    "\n",
    "for\n",
    "\n",
    "\n",
    "south = pos.z > 0\n",
    "\n",
    "if south:\n",
    "    message = \"You are in the South\"\n",
    "else:\n",
    "    message = \"You are in the North\"\n",
    "\n",
    "mc.postToChat(message)  # what do you expect to see here?"
   ]
  },
  {
   "cell_type": "markdown",
   "metadata": {},
   "source": [
    "😎 Try moving from North to South and rerun the code above"
   ]
  },
  {
   "cell_type": "markdown",
   "metadata": {},
   "source": [
    "We can ask many questions using elif (else if) and use 'not' to mean the opposite."
   ]
  },
  {
   "cell_type": "code",
   "execution_count": null,
   "metadata": {
    "collapsed": false
   },
   "outputs": [],
   "source": [
    "pos = mc.player.getTilePos()\n",
    "south = pos.z > 0\n",
    "north = not south\n",
    "west = pos.x < 0  # fix me using less than\n",
    "east = pos.x > 0  # fix me using greater than (and equal to)\n",
    "\n",
    "if north and east:\n",
    "    message = \"You are in the North East\"\n",
    "elif north and west:\n",
    "    message = \"You are in the North West\"\n",
    "elif south and east:\n",
    "    message = \"You are in the South East\"\n",
    "elif south and west:\n",
    "    message = \"You are in the South West\"\n",
    "\n",
    "mc.postToChat(message)"
   ]
  },
  {
   "cell_type": "markdown",
   "metadata": {},
   "source": [
    "## Function\n",
    "You can create your own commands, or functions using def(ine)"
   ]
  },
  {
   "cell_type": "code",
   "execution_count": null,
   "metadata": {
    "collapsed": true
   },
   "outputs": [],
   "source": [
    "def whereAmI():\n",
    "    mc.postToChat('You are here.')"
   ]
  },
  {
   "cell_type": "markdown",
   "metadata": {},
   "source": [
    "Try 'calling' the function:"
   ]
  },
  {
   "cell_type": "code",
   "execution_count": null,
   "metadata": {
    "collapsed": true
   },
   "outputs": [],
   "source": [
    "whereAmI()"
   ]
  },
  {
   "cell_type": "markdown",
   "metadata": {},
   "source": [
    "Now move your North-South-East-West code inside the function.\n",
    "**Remember to indent!** (and also to update position inside the loop)\n",
    "\n",
    "Can you call the function many times? (Try it!)"
   ]
  },
  {
   "cell_type": "code",
   "execution_count": null,
   "metadata": {
    "collapsed": true
   },
   "outputs": [],
   "source": []
  },
  {
   "cell_type": "markdown",
   "metadata": {},
   "source": [
    "## While loop\n",
    "How can we keep the program running continuously while we play?"
   ]
  },
  {
   "cell_type": "code",
   "execution_count": null,
   "metadata": {
    "collapsed": false,
    "scrolled": true
   },
   "outputs": [],
   "source": [
    "while True:\n",
    "    whereAmI()\n",
    "\n",
    "print()"
   ]
  },
  {
   "cell_type": "markdown",
   "metadata": {},
   "source": [
    "Use the ◼ button above to exit (`while True` will run forever!).  It is normal to have a long error message, you can use Cell - Current Outputs - Clear to clean it up"
   ]
  },
  {
   "cell_type": "markdown",
   "metadata": {},
   "source": [
    "The loop runs too fast! Can we slow it down?\n",
    "\n",
    "Try using the \n",
    "```python\n",
    "time.sleep(seconds)\n",
    "```\n",
    "function inside the loop."
   ]
  },
  {
   "cell_type": "code",
   "execution_count": null,
   "metadata": {
    "collapsed": true
   },
   "outputs": [],
   "source": []
  },
  {
   "cell_type": "markdown",
   "metadata": {},
   "source": [
    "Can we make the loop exit on a 'condition'?\n",
    "How about when the player is at position 0, 0, 0 ?\n",
    "\n",
    "Hint: keep looping while `x, y, z` is not equal to 0, 0, 0\n",
    "```python\n",
    "x, y, z = mc.player.getTilePos()\n",
    "```\n",
    "you can get x, y, z of the current position with one line!"
   ]
  },
  {
   "cell_type": "code",
   "execution_count": null,
   "metadata": {
    "collapsed": true
   },
   "outputs": [],
   "source": [
    "while condition:\n",
    "    whereAmI()"
   ]
  },
  {
   "cell_type": "markdown",
   "metadata": {},
   "source": [
    "## For loop\n",
    "We can also loop over numbers.\n",
    "\n",
    "What do you expect the code below to do? What numbers are printed?"
   ]
  },
  {
   "cell_type": "code",
   "execution_count": 6,
   "metadata": {
    "collapsed": false,
    "scrolled": true
   },
   "outputs": [
    {
     "name": "stdout",
     "output_type": "stream",
     "text": [
      "0\n",
      "1\n",
      "2\n",
      "3\n",
      "4\n",
      "5\n",
      "6\n",
      "7\n",
      "8\n",
      "9\n"
     ]
    }
   ],
   "source": [
    "for a in range(10):\n",
    "    print(a)"
   ]
  },
  {
   "cell_type": "code",
   "execution_count": 7,
   "metadata": {
    "collapsed": false
   },
   "outputs": [
    {
     "name": "stdout",
     "output_type": "stream",
     "text": [
      "10\n",
      "11\n",
      "12\n",
      "13\n",
      "14\n"
     ]
    }
   ],
   "source": [
    "for b in range(10,15):\n",
    "    print(b)"
   ]
  },
  {
   "cell_type": "markdown",
   "metadata": {},
   "source": [
    "# Minecraft time!\n",
    "It's **Minecraft**! Let's start building"
   ]
  },
  {
   "cell_type": "code",
   "execution_count": null,
   "metadata": {
    "collapsed": true
   },
   "outputs": [],
   "source": [
    "mc.setBlock(0, 0, 0, block.STONE.id)"
   ]
  },
  {
   "cell_type": "markdown",
   "metadata": {},
   "source": [
    "It's not very useful building a block far away from you!\n",
    "\n",
    "Can you set the block close to your current position?"
   ]
  },
  {
   "cell_type": "code",
   "execution_count": 9,
   "metadata": {
    "collapsed": false
   },
   "outputs": [],
   "source": [
    "pos = mc.player.getTilePos()\n",
    "for x in range (pos.x):\n",
    "    mc.setBlock(x, pos.y, pos.z, block.TNT.id, 1)\n",
    "for z in range (pos.z):\n",
    "    mc.setBlock(0, pos.y, z, block.TNT.id, 1)\n",
    "for y in range (pos.y):\n",
    "    mc.setBlock(0, y, 0, block.TNT.id, 1)"
   ]
  },
  {
   "cell_type": "markdown",
   "metadata": {},
   "source": [
    "or you can move yourself to 0, 0, 0!"
   ]
  },
  {
   "cell_type": "code",
   "execution_count": null,
   "metadata": {
    "collapsed": true
   },
   "outputs": [],
   "source": [
    "mc.player.setPos(0, 0, 0)"
   ]
  },
  {
   "cell_type": "markdown",
   "metadata": {},
   "source": [
    "If you can see nothing but darkness, you might be buried underground... Try changing the y value to go above!"
   ]
  },
  {
   "cell_type": "markdown",
   "metadata": {},
   "source": [
    "## Loops + Block = Awesome!\n",
    "Let's build a wall (or tower)"
   ]
  },
  {
   "cell_type": "code",
   "execution_count": null,
   "metadata": {
    "collapsed": false
   },
   "outputs": [],
   "source": [
    "for x in range (start, end):  # replace start and end\n",
    "    mc.setBlock(x, y, z, block.BRICK_BLOCK.id)  # fix a value for y and z"
   ]
  },
  {
   "cell_type": "code",
   "execution_count": null,
   "metadata": {
    "collapsed": false
   },
   "outputs": [],
   "source": [
    "mc.setBlock(55, 10, -20, block.LAVA.id)"
   ]
  },
  {
   "cell_type": "markdown",
   "metadata": {},
   "source": [
    "Now fix x and loop y to make a tower like this!\n",
    "![tower](screenshots/tower.png)"
   ]
  },
  {
   "cell_type": "code",
   "execution_count": null,
   "metadata": {
    "collapsed": true
   },
   "outputs": [],
   "source": []
  },
  {
   "cell_type": "markdown",
   "metadata": {},
   "source": [
    "Let's experiment with different types of blocks.\n",
    "use `TAB` after typing `block.` to see a list of available blocks or go to the [API reference page](http://www.stuffaboutcode.com/p/minecraft-api-reference.html)."
   ]
  },
  {
   "cell_type": "code",
   "execution_count": null,
   "metadata": {
    "collapsed": false
   },
   "outputs": [],
   "source": [
    "block."
   ]
  },
  {
   "cell_type": "markdown",
   "metadata": {},
   "source": [
    "Note: some blocks have special properties, e.g. TNT and wool"
   ]
  },
  {
   "cell_type": "code",
   "execution_count": null,
   "metadata": {
    "collapsed": true
   },
   "outputs": [],
   "source": [
    "mc.setBlock(0, 0, 0, block.TNT.id, 1) # '1' means active TNT. Hit it!"
   ]
  },
  {
   "cell_type": "code",
   "execution_count": null,
   "metadata": {
    "collapsed": true
   },
   "outputs": [],
   "source": [
    "for color in range(0,16):\n",
    "    mc.setBlock(0, 0, 0, block.WOOL.id, color) # change color\n",
    "    time.sleep(0.5)"
   ]
  },
  {
   "cell_type": "markdown",
   "metadata": {},
   "source": [
    "Advanced: Try random colors using \n",
    "```python\n",
    "random.randint(0, 15)\n",
    "```\n",
    "\n",
    "**Fun tip**: LAVA and WATER blocks flow, and see what happens when you combine them."
   ]
  },
  {
   "cell_type": "code",
   "execution_count": 12,
   "metadata": {
    "collapsed": true
   },
   "outputs": [],
   "source": [
    "mc.setBlock(0, 0, 0, block.LAVA.id)"
   ]
  },
  {
   "cell_type": "code",
   "execution_count": 13,
   "metadata": {
    "collapsed": true
   },
   "outputs": [],
   "source": [
    "mc.setBlock(0, 0, 0, block.WATER.id)"
   ]
  },
  {
   "cell_type": "markdown",
   "metadata": {},
   "source": [
    "Challenge: Can you make a wall of changing colors?\n",
    "![Wall](screenshots/wall.png)"
   ]
  },
  {
   "cell_type": "markdown",
   "metadata": {},
   "source": [
    "You can keep many items in a type of variable called a list"
   ]
  },
  {
   "cell_type": "code",
   "execution_count": null,
   "metadata": {
    "collapsed": false
   },
   "outputs": [],
   "source": [
    "blocks = [block.STONE.id, block.COBBLESTONE.id, block.GRAVEL.id,\n",
    "          block.SANDSTONE.id, block.MOSS_STONE.id]\n",
    "for block in blocks:\n",
    "    print(block)  # what do you expect to see?"
   ]
  },
  {
   "cell_type": "markdown",
   "metadata": {},
   "source": [
    "A wall with each kind of block:"
   ]
  },
  {
   "cell_type": "code",
   "execution_count": null,
   "metadata": {
    "collapsed": false
   },
   "outputs": [],
   "source": [
    "x = # where do you want to start?\n",
    "for block in blocks:\n",
    "    mc.setBlock(x, 10, 10, block)  # what do you expect to see?\n",
    "    x = x + 1"
   ]
  },
  {
   "cell_type": "markdown",
   "metadata": {},
   "source": [
    "Let's build a wall using layers of these blocks."
   ]
  },
  {
   "cell_type": "code",
   "execution_count": null,
   "metadata": {
    "collapsed": false
   },
   "outputs": [],
   "source": [
    "y = # where do you want to start?\n",
    "z = # fix z to somewhere close to you\n",
    "for block in blocks:\n",
    "    for x in range (start, end):  #replace start and end\n",
    "        mc.setBlock(x, y, z, block)  # change y as you go higher"
   ]
  },
  {
   "cell_type": "code",
   "execution_count": null,
   "metadata": {
    "collapsed": true
   },
   "outputs": [],
   "source": []
  },
  {
   "cell_type": "markdown",
   "metadata": {},
   "source": [
    "# Congratulations! Your done! On to more programming!"
   ]
  },
  {
   "cell_type": "code",
   "execution_count": null,
   "metadata": {
    "collapsed": true
   },
   "outputs": [],
   "source": []
  }
 ],
 "metadata": {
  "kernelspec": {
   "display_name": "Python 2",
   "language": "python",
   "name": "python2"
  },
  "language_info": {
   "codemirror_mode": {
    "name": "ipython",
    "version": 2
   },
   "file_extension": ".py",
   "mimetype": "text/x-python",
   "name": "python",
   "nbconvert_exporter": "python",
   "pygments_lexer": "ipython2",
   "version": "2.7.9"
  }
 },
 "nbformat": 4,
 "nbformat_minor": 0
}
