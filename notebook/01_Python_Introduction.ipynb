{
 "cells": [
  {
   "cell_type": "markdown",
   "metadata": {
    "slideshow": {
     "slide_type": "slide"
    }
   },
   "source": [
    "# Python Basics\n",
    "## A few tips\n",
    "* To execute a cell, click in it and then type [shift] + [enter] or pressing the ▶ button in the toolbar above\n",
    "* If you are stuck, use ◼ in the toolbar to stop! Or press [I],[I]\n",
    "* Press [TAB] to auto-complete Python code\n",
    "* If you need help, try\n",
    "```python\n",
    "help()\n",
    "```"
   ]
  },
  {
   "cell_type": "markdown",
   "metadata": {},
   "source": [
    "## Start with Text - Hello World!\n",
    "\n",
    "Text is called ```string``` in the programming world.  What can we do with string?\n",
    "\n",
    "Let's try printing them out!"
   ]
  },
  {
   "cell_type": "code",
   "execution_count": null,
   "metadata": {
    "scrolled": true,
    "slideshow": {
     "slide_type": "subslide"
    }
   },
   "outputs": [],
   "source": [
    "def checkIfAllKeysArePressed(pressedKeys, expectedPressedKeys):\n",
    "    [\"l\",\"l\",\"r\",\"r\"]\n",
    "    [\"l\", \"l\",\"r\",\"l\"]\n",
    "    \n",
    "\n",
    "counter=0\n",
    "\n",
    "while True \n",
    " if (pressedKeys[conter]=expectedPressedKeys[counter])\n",
    "    then(counter++)\n",
    "or else break"
   ]
  },
  {
   "cell_type": "markdown",
   "metadata": {},
   "source": [
    "## **We always start learning programming with Hello World. You made your FIRST Python program!**\n"
   ]
  },
  {
   "cell_type": "markdown",
   "metadata": {},
   "source": [
    "## Imagine you are preparing your birthday party! Print the heading of your invitation card!\n",
    "\n",
    "Invite your guest to your birthday party\n",
    "You can put the message in the brackets and print!"
   ]
  },
  {
   "cell_type": "code",
   "execution_count": 3,
   "metadata": {},
   "outputs": [
    {
     "name": "stdout",
     "output_type": "stream",
     "text": [
      "You are invited to my birthday party!\n"
     ]
    }
   ],
   "source": [
    "print (\"You are invited to my birthday party!\")"
   ]
  },
  {
   "cell_type": "markdown",
   "metadata": {},
   "source": [
    "## 😎 print your own message!"
   ]
  },
  {
   "cell_type": "code",
   "execution_count": 4,
   "metadata": {},
   "outputs": [
    {
     "name": "stdout",
     "output_type": "stream",
     "text": [
      "I play RPG! 168\n"
     ]
    }
   ],
   "source": [
    "print(\"I play RPG!\", 123+45)"
   ]
  },
  {
   "cell_type": "markdown",
   "metadata": {},
   "source": [
    "## Variables - String\n",
    "## Using Text to print the heading of your birthday card!\n",
    "\n",
    "A variable is something that has a name and stores any value you give it for you to use later. \n",
    "You can put your invitation message in a variable and then print your message.  This helps you to change the message easily later.  \n",
    "Let's name your variable welcomeMessage. \n",
    "\n",
    "Notice that variable names are not out in quotation marks, hence welcomeMessage instead of \"welcomeMessage\".  We only need quotation marks for strings that are assigned to the variable.\n",
    "\n",
    "Variable names must not have any spaces. Hence welcomeMessage, instead of Welcome Message\n"
   ]
  },
  {
   "cell_type": "code",
   "execution_count": 3,
   "metadata": {},
   "outputs": [
    {
     "name": "stdout",
     "output_type": "stream",
     "text": [
      "Hello! I'm very excited to invite you to my birthday party!\n"
     ]
    }
   ],
   "source": [
    "welcomeMessage = \"Hello! I'm very excited to invite you to my birthday party!\"\n",
    "print (welcomeMessage)"
   ]
  },
  {
   "cell_type": "markdown",
   "metadata": {},
   "source": [
    "## 😎 Your turn to put the welcomeMessage, and print it out!\n"
   ]
  },
  {
   "cell_type": "code",
   "execution_count": 6,
   "metadata": {
    "scrolled": true
   },
   "outputs": [
    {
     "name": "stdout",
     "output_type": "stream",
     "text": [
      "Easy!\n"
     ]
    }
   ],
   "source": [
    "welcomeMessage = \"Easy!\"\n",
    "print (welcomeMessage)"
   ]
  },
  {
   "cell_type": "markdown",
   "metadata": {},
   "source": [
    "## What's is your age on this brithday party?\n",
    "It's 29! Let me answer you by printing  it out\n",
    "\n",
    "Notice that we did not use qoutation marks this time, because we are printing a number, not string (text).  We need quotation marks only for strings, not for number and not for variables. \n"
   ]
  },
  {
   "cell_type": "code",
   "execution_count": 7,
   "metadata": {},
   "outputs": [
    {
     "name": "stdout",
     "output_type": "stream",
     "text": [
      "29\n"
     ]
    }
   ],
   "source": [
    "print (29)"
   ]
  },
  {
   "cell_type": "markdown",
   "metadata": {},
   "source": [
    "## Variables - integer\n",
    "Just like variables can be equal to (i.e. assigned to) a string, variables can be assigned to a number as well.  Numbers are called integer, just like text is called string"
   ]
  },
  {
   "cell_type": "code",
   "execution_count": 8,
   "metadata": {},
   "outputs": [
    {
     "name": "stdout",
     "output_type": "stream",
     "text": [
      "29\n"
     ]
    }
   ],
   "source": [
    "age = 29\n",
    "print (age)"
   ]
  },
  {
   "cell_type": "markdown",
   "metadata": {},
   "source": [
    "## 😎 How about you? Tell us what's your age on this birthday party"
   ]
  },
  {
   "cell_type": "code",
   "execution_count": 9,
   "metadata": {
    "scrolled": true
   },
   "outputs": [
    {
     "name": "stdout",
     "output_type": "stream",
     "text": [
      "100\n"
     ]
    }
   ],
   "source": [
    "age = 100\n",
    "print (age)"
   ]
  },
  {
   "cell_type": "markdown",
   "metadata": {},
   "source": [
    "## Put all these strings and integers together in the welcome message\n",
    "\n",
    "To print different strings and variables in one go, you can simply add them up by using +\n",
    "\n",
    "See what happens when you run this code"
   ]
  },
  {
   "cell_type": "code",
   "execution_count": 10,
   "metadata": {},
   "outputs": [
    {
     "ename": "TypeError",
     "evalue": "can only concatenate str (not \"int\") to str",
     "output_type": "error",
     "traceback": [
      "\u001b[0;31m---------------------------------------------------------------------------\u001b[0m",
      "\u001b[0;31mTypeError\u001b[0m                                 Traceback (most recent call last)",
      "\u001b[0;32m/tmp/ipykernel_3803/808756301.py\u001b[0m in \u001b[0;36m<module>\u001b[0;34m\u001b[0m\n\u001b[1;32m      2\u001b[0m \u001b[0mmyName\u001b[0m \u001b[0;34m=\u001b[0m \u001b[0;34m\"Connie\"\u001b[0m\u001b[0;34m\u001b[0m\u001b[0;34m\u001b[0m\u001b[0m\n\u001b[1;32m      3\u001b[0m \u001b[0mage\u001b[0m \u001b[0;34m=\u001b[0m \u001b[0;36m12\u001b[0m\u001b[0;34m\u001b[0m\u001b[0;34m\u001b[0m\u001b[0m\n\u001b[0;32m----> 4\u001b[0;31m \u001b[0mprint\u001b[0m\u001b[0;34m(\u001b[0m \u001b[0;34m\"Hello \"\u001b[0m \u001b[0;34m+\u001b[0m \u001b[0mGuestName\u001b[0m \u001b[0;34m+\u001b[0m \u001b[0;34m\" You are invited to \"\u001b[0m\u001b[0;34m+\u001b[0m \u001b[0mmyName\u001b[0m \u001b[0;34m+\u001b[0m \u001b[0;34m\"'s \"\u001b[0m \u001b[0;34m+\u001b[0m \u001b[0mage\u001b[0m \u001b[0;34m+\u001b[0m \u001b[0;34m\"th Birthday Party.\"\u001b[0m\u001b[0;34m)\u001b[0m\u001b[0;34m\u001b[0m\u001b[0;34m\u001b[0m\u001b[0m\n\u001b[0m",
      "\u001b[0;31mTypeError\u001b[0m: can only concatenate str (not \"int\") to str"
     ]
    }
   ],
   "source": [
    "GuestName = \"Joyce\"\n",
    "myName = \"Connie\"\n",
    "age = 12\n",
    "print( \"Hello \" + GuestName + \" You are invited to \"+ myName + \"'s \" + age + \"th Birthday Party.\")"
   ]
  },
  {
   "cell_type": "markdown",
   "metadata": {},
   "source": [
    "Did you get some crazy error? \n",
    "   TypeError: cannot concatenate 'str' and 'int' objects\n",
    " \n",
    "We can only add strings to strings and integers to integers. \n",
    "So to make this work, we need to first convert the integer to a string.  You can simply do that by putting the variable inside str(), see the cell below.  \n",
    "\n",
    "str() is a function that converts integers to strings - but don't worry, we'll learn more about what functions are very soon! "
   ]
  },
  {
   "cell_type": "code",
   "execution_count": 9,
   "metadata": {
    "scrolled": true
   },
   "outputs": [
    {
     "name": "stdout",
     "output_type": "stream",
     "text": [
      "48 24 24\n",
      "Hello Joyce You are invited to Connie's 24th Birthday Party!\n"
     ]
    }
   ],
   "source": [
    "GuestName = \"Joyce\"\n",
    "myName =\"Connie\"\n",
    "age = 12+12\n",
    "print(age+age,str(age),str(age))\n",
    "print( \"Hello \" + GuestName + \" You are invited to \"+ myName + \"'s \" + str(age) + \"th Birthday Party!\")"
   ]
  },
  {
   "cell_type": "markdown",
   "metadata": {},
   "source": [
    "## 😎 Your turn to get your welcome message with your name and your guest's name!"
   ]
  },
  {
   "cell_type": "code",
   "execution_count": 10,
   "metadata": {},
   "outputs": [],
   "source": [
    "GuestName = 'James'\n",
    "myName = 'Niki'\n",
    "age = 55\n",
    "\n"
   ]
  },
  {
   "cell_type": "code",
   "execution_count": 18,
   "metadata": {},
   "outputs": [
    {
     "name": "stdout",
     "output_type": "stream",
     "text": [
      "James You are invited to Niki's\n",
      "James You are invited to  Niki's\n"
     ]
    }
   ],
   "source": [
    "print( GuestName + ' You are invited to ' + myName + \"'s\")\n",
    "print( GuestName ,'You are invited to ' ,myName+\"'s\")\n"
   ]
  },
  {
   "cell_type": "markdown",
   "metadata": {},
   "source": [
    "## 😎 Try changing the GuestName (on the above and run) and print again"
   ]
  },
  {
   "cell_type": "markdown",
   "metadata": {},
   "source": [
    "## If...\n",
    "We can ask questions and decide what to do next with an if statement"
   ]
  },
  {
   "cell_type": "code",
   "execution_count": 13,
   "metadata": {},
   "outputs": [
    {
     "name": "stdout",
     "output_type": "stream",
     "text": [
      "Getting Cooler! I want hot chocolate!\n"
     ]
    }
   ],
   "source": [
    "temperature = 25 #enter value here \n",
    "\n",
    "if temperature > 30:\n",
    "    message = \"It's so hot! I want to get an icecream!!!\"\n",
    "else:\n",
    "    message = \"Getting Cooler! I want hot chocolate!\"\n",
    "\n",
    "print(message)  # what do you expect to see here?"
   ]
  },
  {
   "cell_type": "markdown",
   "metadata": {},
   "source": [
    " Try changing different temperature!"
   ]
  },
  {
   "cell_type": "markdown",
   "metadata": {},
   "source": [
    " ## 😎 You decide where to have your birthday party!\n",
    " Your house can have 5 guests, if there are more guests- where do you want to have your birthday party? \n",
    " \n",
    "Notice that for If condition, you are always comparing two things. Usually whether a variable is equal to / less than or greater than something "
   ]
  },
  {
   "cell_type": "code",
   "execution_count": 20,
   "metadata": {},
   "outputs": [
    {
     "name": "stdout",
     "output_type": "stream",
     "text": [
      "Don't come\n"
     ]
    }
   ],
   "source": [
    "numberOfGuests = 5\n",
    "\n",
    "if numberOfGuests > 2:\n",
    "    message = \"Don't come\"\n",
    "else:\n",
    "    message = \"Let's enjoy\"\n",
    "\n",
    "print(message)"
   ]
  },
  {
   "cell_type": "markdown",
   "metadata": {},
   "source": [
    "## A quick look at other types\n",
    "boolean|integer|string\n",
    "---|---|---|---\n",
    "True|42||\"hello\"\n",
    "\n",
    "### What is Boolean?\n",
    "Boolean is either ```True``` or ```False```.  It is usually seen when we do comparison. Remember the If condition we just learnt, that actually just uses a boolean condition:  If TRUE, do something, Else do something different "
   ]
  },
  {
   "cell_type": "code",
   "execution_count": 21,
   "metadata": {},
   "outputs": [
    {
     "data": {
      "text/plain": [
       "False"
      ]
     },
     "execution_count": 21,
     "metadata": {},
     "output_type": "execute_result"
    }
   ],
   "source": [
    "1 + 1 == 2 # 1+1 is equal to 2\n",
    "1 + 1 != 2"
   ]
  },
  {
   "cell_type": "code",
   "execution_count": 22,
   "metadata": {},
   "outputs": [
    {
     "data": {
      "text/plain": [
       "True"
      ]
     },
     "execution_count": 22,
     "metadata": {},
     "output_type": "execute_result"
    }
   ],
   "source": [
    "\"star war\" == \"star war\""
   ]
  },
  {
   "cell_type": "code",
   "execution_count": 23,
   "metadata": {},
   "outputs": [
    {
     "data": {
      "text/plain": [
       "True"
      ]
     },
     "execution_count": 23,
     "metadata": {},
     "output_type": "execute_result"
    }
   ],
   "source": [
    "Age = 20 \n",
    "Age == 20 # Guess if this is returning true or false?"
   ]
  },
  {
   "cell_type": "markdown",
   "metadata": {},
   "source": [
    "### Other type of comparisions\n",
    "\n",
    "==|!=|<=, <, >=, >\n",
    "---|---|---\n",
    "equals|not equals|less than or equal to, etc.\n",
    "☺ Give them a try!"
   ]
  },
  {
   "cell_type": "code",
   "execution_count": 18,
   "metadata": {},
   "outputs": [
    {
     "data": {
      "text/plain": [
       "False"
      ]
     },
     "execution_count": 18,
     "metadata": {},
     "output_type": "execute_result"
    }
   ],
   "source": [
    "Age > 20 #Guess if this is returning true or false"
   ]
  },
  {
   "cell_type": "code",
   "execution_count": 19,
   "metadata": {},
   "outputs": [
    {
     "data": {
      "text/plain": [
       "False"
      ]
     },
     "execution_count": 19,
     "metadata": {},
     "output_type": "execute_result"
    }
   ],
   "source": [
    "myFriendsAge = 18 \n",
    "myAge = 10 # What's your age?\n",
    "myAge > myFriendsAge #Guess if this is returning true or false"
   ]
  },
  {
   "cell_type": "markdown",
   "metadata": {},
   "source": [
    "We can save boolean to variables too!\n",
    "\n",
    "remember no spaces in variable names!"
   ]
  },
  {
   "cell_type": "code",
   "execution_count": 20,
   "metadata": {},
   "outputs": [],
   "source": [
    "raspberry_pi_is_fun = True\n",
    "raspberry_pi_is_expensive = False"
   ]
  },
  {
   "cell_type": "code",
   "execution_count": 25,
   "metadata": {},
   "outputs": [
    {
     "name": "stdout",
     "output_type": "stream",
     "text": [
      "False\n"
     ]
    }
   ],
   "source": [
    "myFriendsAge = 18 \n",
    "myAge = 10 # What's your age?\n",
    "friend_is_older_than_me = myFriendsAge < myAge #Guess if this is returning true or false\n",
    "print(friend_is_older_than_me)"
   ]
  },
  {
   "cell_type": "markdown",
   "metadata": {},
   "source": [
    "## 😎 Your turn to try. Comparing your height maybe?"
   ]
  },
  {
   "cell_type": "code",
   "execution_count": 27,
   "metadata": {},
   "outputs": [
    {
     "name": "stdout",
     "output_type": "stream",
     "text": [
      "False\n"
     ]
    }
   ],
   "source": [
    "YourHeight = 5\n",
    "MyHeight = 6\n",
    "You_are_taller_than_me = YourHeight>MyHeight\n",
    "print(You_are_taller_than_me)"
   ]
  },
  {
   "cell_type": "markdown",
   "metadata": {},
   "source": [
    "## Function\n",
    "Functions are just pre-defined commands you tell the computer to do.  \n",
    "Like print (), str ()\n",
    "You can create your own commands, or functions too. \n",
    "But first you need to give them a name, so you can refer to them by their name when you need to use those commands. \n",
    "And then you need to tell them what all you want them to do each time you use them.\n",
    "\n",
    "Just like str() converts whatever you provide within the brakets to a string, i.e. text. \n",
    "Just like print() prints out whatever you put within the brakets when you use it\n",
    "\n",
    "Let's learn how your powerful functions can be defined"
   ]
  },
  {
   "cell_type": "code",
   "execution_count": 25,
   "metadata": {},
   "outputs": [],
   "source": [
    "def Invitation():\n",
    "    print (\"Hello\")\n",
    "    print (\"You are invited to my Birthday party\")\n",
    "    print (\"Address: McDonald @Nathan Road, TST\")\n",
    "    print (\"Time: 3:30pm - 4:30pm\")\n",
    "    "
   ]
  },
  {
   "cell_type": "markdown",
   "metadata": {},
   "source": [
    "Nothing printed? Let's try using the function. \n",
    "Once you have defined the function, you then use the name you gave it, to use it, in programming words - to call it.  "
   ]
  },
  {
   "cell_type": "code",
   "execution_count": 26,
   "metadata": {},
   "outputs": [
    {
     "name": "stdout",
     "output_type": "stream",
     "text": [
      "Hello\n",
      "You are invited to my Birthday party\n",
      "Address: McDonald @Nathan Road, TST\n",
      "Time: 3:30pm - 4:30pm\n"
     ]
    }
   ],
   "source": [
    "Invitation()"
   ]
  },
  {
   "cell_type": "markdown",
   "metadata": {},
   "source": [
    "## 😎 Your turn to build your invitation"
   ]
  },
  {
   "cell_type": "code",
   "execution_count": 29,
   "metadata": {},
   "outputs": [],
   "source": [
    "def Invitation():\n",
    "    print (\"hii\")\n",
    "    print (\"byeee\")\n",
    "    print(\"balabala\")\n",
    "    "
   ]
  },
  {
   "cell_type": "code",
   "execution_count": 30,
   "metadata": {},
   "outputs": [
    {
     "name": "stdout",
     "output_type": "stream",
     "text": [
      "hii\n",
      "byeee\n",
      "balabala\n"
     ]
    }
   ],
   "source": [
    "Invitation()"
   ]
  },
  {
   "cell_type": "markdown",
   "metadata": {},
   "source": [
    "Let's be more polite and include your guest's name"
   ]
  },
  {
   "cell_type": "code",
   "execution_count": 31,
   "metadata": {},
   "outputs": [],
   "source": [
    "def Invitation(name,occasion):\n",
    "    print (\"Hello \" + name)\n",
    "    print (\"You are invited to my\",occasion)\n",
    "    print (\"Address: McDonald @Nathan Road, TST\")\n",
    "    print (\"Time: 3:30pm - 4:30pm\")"
   ]
  },
  {
   "cell_type": "code",
   "execution_count": 32,
   "metadata": {},
   "outputs": [
    {
     "name": "stdout",
     "output_type": "stream",
     "text": [
      "Hello Jane\n",
      "You are invited to my Birthday party\n",
      "Address: McDonald @Nathan Road, TST\n",
      "Time: 3:30pm - 4:30pm\n"
     ]
    }
   ],
   "source": [
    "Invitation(\"Jane\",\"Birthday party\")"
   ]
  },
  {
   "cell_type": "markdown",
   "metadata": {},
   "source": [
    "We can keep calling the function to all your guests and prepare the welcome message"
   ]
  },
  {
   "cell_type": "code",
   "execution_count": 29,
   "metadata": {
    "scrolled": true
   },
   "outputs": [
    {
     "name": "stdout",
     "output_type": "stream",
     "text": [
      "Hello Jane\n",
      "You are invited to my Birthday party\n",
      "Address: McDonald @Nathan Road, TST\n",
      "Time: 3:30pm - 4:30pm\n",
      "Hello Katie\n",
      "You are invited to my Birthday party\n",
      "Address: McDonald @Nathan Road, TST\n",
      "Time: 3:30pm - 4:30pm\n",
      "Hello Vincent\n",
      "You are invited to my Birthday party\n",
      "Address: McDonald @Nathan Road, TST\n",
      "Time: 3:30pm - 4:30pm\n"
     ]
    }
   ],
   "source": [
    "Invitation(\"Jane\")\n",
    "Invitation(\"Katie\")\n",
    "Invitation(\"Vincent\")"
   ]
  },
  {
   "cell_type": "markdown",
   "metadata": {},
   "source": [
    " ## 😎 Your turn to prepare your welcome message and print to different guests!"
   ]
  },
  {
   "cell_type": "code",
   "execution_count": null,
   "metadata": {
    "collapsed": true,
    "jupyter": {
     "outputs_hidden": true
    }
   },
   "outputs": [],
   "source": [
    "def Invitation():\n",
    "    print \n",
    "    print \n",
    "    print\n",
    "    "
   ]
  },
  {
   "cell_type": "code",
   "execution_count": null,
   "metadata": {},
   "outputs": [],
   "source": [
    "Invitation"
   ]
  },
  {
   "cell_type": "markdown",
   "metadata": {},
   "source": [
    "# Congratulations! Your done! On to more programming!"
   ]
  }
 ],
 "metadata": {
  "kernelspec": {
   "display_name": "Python 3",
   "language": "python",
   "name": "python3"
  },
  "language_info": {
   "codemirror_mode": {
    "name": "ipython",
    "version": 3
   },
   "file_extension": ".py",
   "mimetype": "text/x-python",
   "name": "python",
   "nbconvert_exporter": "python",
   "pygments_lexer": "ipython3",
   "version": "3.8.20"
  }
 },
 "nbformat": 4,
 "nbformat_minor": 4
}
