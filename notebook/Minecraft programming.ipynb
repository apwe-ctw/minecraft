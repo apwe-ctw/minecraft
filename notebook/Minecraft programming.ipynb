{
 "cells": [
  {
   "cell_type": "markdown",
   "metadata": {
    "collapsed": true
   },
   "source": [
    "# Minecraft Programming\n"
   ]
  },
  {
   "cell_type": "markdown",
   "metadata": {},
   "source": [
    "## Let's Play MineCraft!"
   ]
  },
  {
   "cell_type": "markdown",
   "metadata": {},
   "source": [
    "- Start the game!\n",
    "    - Menu -> Games -> Minecraft Pi\n",
    "    - Start Game -> Create New "
   ]
  },
  {
   "cell_type": "code",
   "execution_count": null,
   "metadata": {
    "collapsed": false
   },
   "outputs": [],
   "source": [
    "from minecraft_utils import *\n",
    "import time\n",
    "\n",
    "reset()\n",
    "make_axes()"
   ]
  },
  {
   "cell_type": "markdown",
   "metadata": {
    "collapsed": true
   },
   "source": [
    "### Try it out!\n",
    "Control:\n",
    "![control](images/minecraft-pi-controls.png)\n",
    "\n",
    "- Move to position (0,0,0)\n",
    "- What about position (3,8,7)?"
   ]
  },
  {
   "cell_type": "markdown",
   "metadata": {},
   "source": [
    "You can reset your world by calling reset() at any time"
   ]
  },
  {
   "cell_type": "code",
   "execution_count": null,
   "metadata": {
    "collapsed": false
   },
   "outputs": [],
   "source": [
    "reset()"
   ]
  },
  {
   "cell_type": "markdown",
   "metadata": {},
   "source": [
    "## Let's do it through Code!\n",
    "\n",
    "### Resources\n",
    "\n",
    "* Introduction to the Minecraft Python API: http://www.stuffaboutcode.com/2013/04/minecraft-pi-edition-api-tutorial.html\n",
    "* API reference: http://www.stuffaboutcode.com/p/minecraft-api-reference.html (See your printout!)"
   ]
  },
  {
   "cell_type": "markdown",
   "metadata": {},
   "source": [
    "You can print to the Minecraft Chat like this:\n",
    "\n",
    "![hello](screenshots/hello_world.png)\n",
    "\n",
    "### Try it out!"
   ]
  },
  {
   "cell_type": "code",
   "execution_count": null,
   "metadata": {
    "collapsed": true
   },
   "outputs": [],
   "source": [
    "mc.postToChat(\"Hello Minecraft World\")"
   ]
  },
  {
   "cell_type": "markdown",
   "metadata": {},
   "source": [
    "Lets try another one?"
   ]
  },
  {
   "cell_type": "code",
   "execution_count": null,
   "metadata": {
    "collapsed": true
   },
   "outputs": [],
   "source": [
    "name = \"Minecraft\"\n",
    "age = 5\n",
    "mc.postToChat(name + \" is \" + str(age) + \" years old\")"
   ]
  },
  {
   "cell_type": "markdown",
   "metadata": {},
   "source": [
    "The following code get your current position, save it to a variable named `pos`, then post it back to minecraft.  Try it!"
   ]
  },
  {
   "cell_type": "code",
   "execution_count": null,
   "metadata": {
    "collapsed": true
   },
   "outputs": [],
   "source": [
    "pos = mc.player.getTilePos()\n",
    "mc.postToChat(pos)"
   ]
  },
  {
   "cell_type": "markdown",
   "metadata": {},
   "source": [
    "You can also move yourself:"
   ]
  },
  {
   "cell_type": "code",
   "execution_count": null,
   "metadata": {
    "collapsed": true
   },
   "outputs": [],
   "source": [
    "mc.player.setPos(5, 0, 3)"
   ]
  },
  {
   "cell_type": "markdown",
   "metadata": {},
   "source": [
    "Let's start building!"
   ]
  },
  {
   "cell_type": "code",
   "execution_count": null,
   "metadata": {
    "collapsed": true
   },
   "outputs": [],
   "source": [
    "mc.setBlock(0, 0, 0, block.STONE.id)"
   ]
  },
  {
   "cell_type": "markdown",
   "metadata": {},
   "source": [
    "## Loops + Block = Awesome!\n",
    "\n",
    "Let's build a tower and wall"
   ]
  },
  {
   "cell_type": "code",
   "execution_count": null,
   "metadata": {
    "collapsed": true
   },
   "outputs": [],
   "source": [
    "for y in range (start, end):  # replace start and end\n",
    "    mc.setBlock(x, y, z, block.BRICK_BLOCK.id)  # fix a value for x and z"
   ]
  },
  {
   "cell_type": "markdown",
   "metadata": {},
   "source": [
    "Now fix x and loop z to make a tower like this!\n",
    "\n",
    "![tower](screenshots/tower.png)"
   ]
  },
  {
   "cell_type": "markdown",
   "metadata": {},
   "source": [
    "Let's experiment with different types of blocks. use TAB after typing block. to see a list of available blocks or go to the API reference page."
   ]
  },
  {
   "cell_type": "code",
   "execution_count": null,
   "metadata": {
    "collapsed": true
   },
   "outputs": [],
   "source": [
    "block."
   ]
  },
  {
   "cell_type": "markdown",
   "metadata": {},
   "source": [
    "Note: some blocks have special properties, e.g. TNT and wool"
   ]
  },
  {
   "cell_type": "code",
   "execution_count": null,
   "metadata": {
    "collapsed": true
   },
   "outputs": [],
   "source": [
    "mc.setBlock(0, 0, 0, block.TNT.id, 1) # '1' means active TNT. Hit it!"
   ]
  },
  {
   "cell_type": "code",
   "execution_count": null,
   "metadata": {
    "collapsed": true
   },
   "outputs": [],
   "source": [
    "for color in range(0,16):\n",
    "    mc.setBlock(0, 0, 0, block.WOOL.id, color) # change color\n",
    "    time.sleep(0.5)"
   ]
  },
  {
   "cell_type": "markdown",
   "metadata": {},
   "source": [
    "Advanced: Try random colors using \n",
    "    random.randint(0, 15)\n",
    "Fun tip: LAVA and WATER blocks flow, and see what happens when you combine them."
   ]
  },
  {
   "cell_type": "code",
   "execution_count": null,
   "metadata": {
    "collapsed": true
   },
   "outputs": [],
   "source": [
    "mc.setBlock(0, 0, 0, block.LAVA.id)"
   ]
  },
  {
   "cell_type": "code",
   "execution_count": null,
   "metadata": {
    "collapsed": true
   },
   "outputs": [],
   "source": [
    "mc.setBlock(0, 0, 0, block.WATER.id)"
   ]
  },
  {
   "cell_type": "markdown",
   "metadata": {},
   "source": [
    "Let's build a wall using bricks!"
   ]
  },
  {
   "cell_type": "code",
   "execution_count": null,
   "metadata": {
    "collapsed": true
   },
   "outputs": [],
   "source": [
    "y = # where do you want to start?\n",
    "z = # fix z to somewhere close to you\n",
    "for x in range (start, end):  #replace start and end\n",
    "    mc.setBlock(x, y, z, block.BRICK_BLOCK.id)  # change y as you go higher"
   ]
  },
  {
   "cell_type": "markdown",
   "metadata": {},
   "source": [
    "## Build a House\n",
    "\n",
    "*Objective:* Build a house using the skills learned\n",
    "\n",
    "- First build a solid cuboid.\n",
    "- You can use your bulldozer to keep clearing the area as you (re)build.\n",
    "\n",
    "![cube](./screenshots/build_cube.png)"
   ]
  },
  {
   "cell_type": "code",
   "execution_count": null,
   "metadata": {
    "collapsed": true
   },
   "outputs": [],
   "source": [
    "def build_house(width, depth, height):\n",
    "    pos = mc.player.getTilePos()\n",
    "    for x :  # fix me: three loops for a width x depth x height cube\n",
    "        for z :\n",
    "            for y :\n",
    "                mc.setBlock(pos.x + x, pos.y + y, pos.z + z, block.BRICK_BLOCK.id)\n",
    "\n",
    "build_house(?, ?, ?)  # fix me: what are the dimensions of your house?"
   ]
  },
  {
   "cell_type": "markdown",
   "metadata": {},
   "source": [
    "- Do you want to build it where you're standing (and get trapped inside), or some distance away from you?\n",
    "\n",
    "- **Try it!** use reset() to clean up some space - but be careful, it can destroy your house!\n",
    "\n",
    "- Though it's fun to watch the blocks line up, there are faster ways to build structures. Rather than looping and setting a single block at a time, we can set a range of blocks together:"
   ]
  },
  {
   "cell_type": "code",
   "execution_count": null,
   "metadata": {
    "collapsed": true
   },
   "outputs": [],
   "source": [
    "mc.setBlocks(start x, start y, start z, end x, end y, end z, block.BRICK_BLOCK.id)"
   ]
  },
  {
   "cell_type": "markdown",
   "metadata": {
    "collapsed": true
   },
   "source": [
    "- Enhance your build_house function to use the single setBlocks command rather than 3 loops.\n",
    "- A solid house is no good! You can clear the inside of the cuboid (your walls should be 1 block thick). That is, place an AIR cuboid inside your solid BRICK cuboid.\n",
    "- How big should the 'hollow' cuboid be? Understand why we have the +1 / -1 (depends which side of the house your hollowing).\n",
    "- Understand why the y dimension is special: because we don't need to hollow out the ground floor (did you?)\n",
    "\n",
    "![hollow cube](./screenshots/hollow_cube.png)"
   ]
  },
  {
   "cell_type": "markdown",
   "metadata": {},
   "source": [
    "- Once the cube is built, you can break up a few blocks to convince yourself that it is indeed hollow.\n",
    "- But you can't break blocks everytime you want to enter or exit your house! Enhance your program to clear a doorway. Which side of the house will you make a doorway?\n",
    "\n",
    "![house function](./screenshots/house_function.png)"
   ]
  },
  {
   "cell_type": "markdown",
   "metadata": {},
   "source": [
    "### For fun (using programming): \n",
    "- Your house is dark inside: place some torches.\n",
    "- Place a few windows using the glass block.\n",
    "- Place some ladders on the outside to allow easy climbing to the roof.\n",
    "- Put in some furniture, a bed, a stove, a door. Perhaps trees and flowers outside. \n",
    "- Would a pool be nice? \n",
    "- How about carpeting? (remember WOOL -- use colors for patterns).\n",
    "- Perhaps it's not a house, but a castle! Build a tower on each corner. And a moat around.\n",
    "- You have a have a build_house function you can call many times. Can you build a whole village of houses? Are all your houses the same size?\n",
    "  \n",
    "### Guest House\n",
    "- Do you allow visitors in your house? Perhaps, but we don't want them to stay forever! Detect when someone is inside your house and kick them our after some time!\n",
    "- You can change your position using the setPos() function."
   ]
  },
  {
   "cell_type": "code",
   "execution_count": null,
   "metadata": {
    "collapsed": true
   },
   "outputs": [],
   "source": [
    "while True:\n",
    "    time.sleep(1)\n",
    "    pos = mc.player.getTilePos()\n",
    "    if :  # fix me: is player in your house?\n",
    "        guest_time = guest_time + 1\n",
    "        mc.postToChat(guest_time)\n",
    "    else:\n",
    "        guest_time = 0"
   ]
  },
  {
   "cell_type": "markdown",
   "metadata": {},
   "source": [
    "- Now use this code to kick your player out of the house if she stays too long!"
   ]
  },
  {
   "cell_type": "code",
   "execution_count": null,
   "metadata": {
    "collapsed": true
   },
   "outputs": [],
   "source": [
    "if :  # fix me: how many seconds before the guest is kicked out?\n",
    "    mc.player.setPos(pos.x + ?, pos.y + ?, pos.z + ?)  # fix me: set player position"
   ]
  },
  {
   "cell_type": "markdown",
   "metadata": {},
   "source": [
    "- ** Try this!** Perhaps you never want anyone on the roof -- kick them off immediately if you detect someone on your roof!"
   ]
  },
  {
   "cell_type": "markdown",
   "metadata": {},
   "source": [
    "\n",
    "## Challenge: The Tunnel\n",
    "\n",
    "*Objective:* Introduce loops with interval and modulo\n",
    "\n",
    "- We will dig a tunnel through a mountain and light it up with torches every 3 blocks.\n",
    "- This is complicated enough that you will want to sketch it out on a piece of paper first, particular the concept of direction (which direction does your tunnel go?).\n",
    "- Can't find a mountain? You know how to build a BIG solid block of rock! We can tunnel through that."
   ]
  },
  {
   "cell_type": "markdown",
   "metadata": {},
   "source": [
    "- Write a function that takes the length and direction of your tunnel, and builds a tunnel from where you are standing.\n",
    "![tunnel](./screenshots/tunnel.png)\n",
    "- Use `input` to get input from the keyboard. (`raw_input` in python 2)"
   ]
  },
  {
   "cell_type": "code",
   "execution_count": null,
   "metadata": {
    "collapsed": true
   },
   "outputs": [],
   "source": [
    "def build_tunnel(length, direction):\n",
    "    print(\"building a tunnel of length: \" + str(length) + \" direction: \" + str(direction))\n",
    "    pos = mc.player.getTilePos()\n",
    "\n",
    "    start_x = pos.x\n",
    "    start_y = pos.y\n",
    "    start_z = pos.z\n",
    "\n",
    "    # setup defaults, which will be changed as needed\n",
    "    end_x = start_x\n",
    "    end_y = start_y + height # how high should your tunnel be? 2 blocks?\n",
    "    end_z = start_z\n",
    "\n",
    "    if direction == 1:\n",
    "        end_x = # depends on length and direction\n",
    "    elif direction == 2:\n",
    "        end_x = # depends on length and direction\n",
    "    elif direction == 3:\n",
    "        end_z = # depends on length and direction\n",
    "    elif direction == 4:\n",
    "        end_z = # depends on length and direction\n",
    "\n",
    "    # dig the tunnel\n",
    "    mc.setBlocks(start_x, start_y, start_z,\n",
    "                 end_x,   end_y,   end_z,\n",
    "                 block.AIR.id)\n",
    "\n",
    "length = int(input(\"length of tunnel?\"))\n",
    "direction = int(input(\"direction?\"))\n",
    "\n",
    "build_tunnel(length, direction)"
   ]
  },
  {
   "cell_type": "markdown",
   "metadata": {},
   "source": [
    "- Now let's add some torchers at regular intervals\n",
    "- First let´s review how does range work"
   ]
  },
  {
   "cell_type": "code",
   "execution_count": null,
   "metadata": {
    "collapsed": true
   },
   "outputs": [],
   "source": [
    "# how does range work?\n",
    "for i in range(0,20):\n",
    "    print(i)"
   ]
  },
  {
   "cell_type": "code",
   "execution_count": null,
   "metadata": {
    "collapsed": true
   },
   "outputs": [],
   "source": [
    "step = 3\n",
    "for i in range(0, 20, step):\n",
    "    print(i)"
   ]
  },
  {
   "cell_type": "markdown",
   "metadata": {},
   "source": [
    "- Torches will be need to be placed in the same direction as the tunnel"
   ]
  },
  {
   "cell_type": "code",
   "execution_count": null,
   "metadata": {
    "collapsed": true
   },
   "outputs": [],
   "source": [
    "torch_x = start_x\n",
    "torch_y = # above ground, depends on how high the tunnel is\n",
    "torch_z = start_z\n",
    "\n",
    "for i in range(0, length, 3):\n",
    "\n",
    "    if direction == 1:\n",
    "        # change torch_x or torch_z depending on direction\n",
    "    elif direction == 2:\n",
    "        # change torch_x or torch_z depending on direction\n",
    "    elif direction == 3:\n",
    "        # change torch_x or torch_z depending on direction\n",
    "    elif direction == 4:\n",
    "        # change torch_x or torch_z depending on direction\n",
    "     print(\"placing torch: \", torch_x, torch_y, torch_z)\n",
    "     mc.setBlock(torch_x, torch_y, torch_z, block.TORCH.id, 1)"
   ]
  },
  {
   "cell_type": "markdown",
   "metadata": {},
   "source": [
    "**Try it!** Put torches on both sides of the tunnel, using spaced intervals."
   ]
  },
  {
   "cell_type": "markdown",
   "metadata": {},
   "source": [
    "**Try it!** Build a tunnel which digs a few blocks under the ground, and places a staircase for easy access on both ends"
   ]
  }
 ],
 "metadata": {
  "kernelspec": {
   "display_name": "Python 2",
   "language": "python",
   "name": "python2"
  },
  "language_info": {
   "codemirror_mode": {
    "name": "ipython",
    "version": 2
   },
   "file_extension": ".py",
   "mimetype": "text/x-python",
   "name": "python",
   "nbconvert_exporter": "python",
   "pygments_lexer": "ipython2",
   "version": "2.7.9"
  }
 },
 "nbformat": 4,
 "nbformat_minor": 1
}
