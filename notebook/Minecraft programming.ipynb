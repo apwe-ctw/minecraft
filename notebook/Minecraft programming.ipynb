{
 "cells": [
  {
   "cell_type": "markdown",
   "metadata": {
    "collapsed": true
   },
   "source": [
    "\n",
    "\n",
    "\n",
    "\n",
    "# Minecraft Programming\n"
   ]
  },
  {
   "cell_type": "markdown",
   "metadata": {},
   "source": [
    "## Let's Play MineCraft!"
   ]
  },
  {
   "cell_type": "markdown",
   "metadata": {},
   "source": [
    "- Start the game!\n",
    "    - Menu -> Games -> Minecraft Pi\n",
    "    - Start Game -> Create New "
   ]
  },
  {
   "cell_type": "code",
   "execution_count": 1,
   "metadata": {},
   "outputs": [],
   "source": [
    "from minecraft_utils import *\n",
    "\n",
    "reset()\n",
    "make_axes()"
   ]
  },
  {
   "cell_type": "markdown",
   "metadata": {
    "collapsed": true
   },
   "source": [
    "### Try it out!\n",
    "Control:\n",
    "![control](images/minecraft-pi-controls.png)\n",
    "\n",
    "- Move to position (10,0,5)\n",
    "- What about position (3,8,7)?"
   ]
  },
  {
   "cell_type": "markdown",
   "metadata": {},
   "source": [
    "You can reset your world by calling reset() at any time"
   ]
  },
  {
   "cell_type": "code",
   "execution_count": 2,
   "metadata": {},
   "outputs": [],
   "source": [
    "reset()"
   ]
  },
  {
   "cell_type": "markdown",
   "metadata": {},
   "source": [
    "## Let's do it through Code!\n",
    "\n",
    "### Resources\n",
    "\n",
    "* Introduction to the Minecraft Python API: http://www.stuffaboutcode.com/2013/04/minecraft-pi-edition-api-tutorial.html\n",
    "* API reference: http://www.stuffaboutcode.com/p/minecraft-api-reference.html (See your printout!)"
   ]
  },
  {
   "cell_type": "markdown",
   "metadata": {},
   "source": [
    "You can print to the Minecraft Chat like this:\n",
    "\n",
    "![hello](screenshots/hello_world.png)\n",
    "\n",
    "### Try it out!"
   ]
  },
  {
   "cell_type": "code",
   "execution_count": 3,
   "metadata": {},
   "outputs": [],
   "source": [
    "mc.postToChat(\"lunch so full\")"
   ]
  },
  {
   "cell_type": "markdown",
   "metadata": {},
   "source": [
    "Lets try another one?"
   ]
  },
  {
   "cell_type": "code",
   "execution_count": 4,
   "metadata": {},
   "outputs": [],
   "source": [
    "name = \"Minecraft\"\n",
    "age = 5\n",
    "mc.postToChat(name + \" is \" + str(age) + \" years old\")"
   ]
  },
  {
   "cell_type": "markdown",
   "metadata": {},
   "source": [
    "The following code get your current position, save it to a variable named `pos`, then post it back to minecraft.  Try it!"
   ]
  },
  {
   "cell_type": "code",
   "execution_count": 5,
   "metadata": {},
   "outputs": [],
   "source": [
    "x,y,z = mc.player.getTilePos()\n",
    "mc.postToChat(\"My position is: (\" + str(x) + \",\" + str(y) + \",\" + str(z) + \")!\")"
   ]
  },
  {
   "cell_type": "markdown",
   "metadata": {},
   "source": [
    "Try moving around and rerun the above command and see how it changes!\n",
    "\n",
    "Or you can also move yourself by using programming:"
   ]
  },
  {
   "cell_type": "code",
   "execution_count": 6,
   "metadata": {},
   "outputs": [],
   "source": [
    "mc.player.setPos(5, 0, 3)"
   ]
  },
  {
   "cell_type": "markdown",
   "metadata": {},
   "source": [
    "What is the output now?"
   ]
  },
  {
   "cell_type": "code",
   "execution_count": 7,
   "metadata": {},
   "outputs": [],
   "source": [
    "x,y,z = mc.player.getTilePos()\n",
    "mc.postToChat(\"My position is now: (\" + str(x) + \",\" + str(y) + \",\" + str(z) + \")!\")"
   ]
  },
  {
   "cell_type": "markdown",
   "metadata": {},
   "source": [
    "## Let's start building!"
   ]
  },
  {
   "cell_type": "markdown",
   "metadata": {},
   "source": [
    "This following line place one brick block on your current location.  You might need to look down to see it"
   ]
  },
  {
   "cell_type": "code",
   "execution_count": 8,
   "metadata": {},
   "outputs": [],
   "source": [
    "placeBlockHere(block.BRICK_BLOCK.id)"
   ]
  },
  {
   "cell_type": "markdown",
   "metadata": {},
   "source": [
    "What about placing AIR?"
   ]
  },
  {
   "cell_type": "code",
   "execution_count": 9,
   "metadata": {},
   "outputs": [],
   "source": [
    "placeBlockHere(block.AIR.id)"
   ]
  },
  {
   "cell_type": "markdown",
   "metadata": {},
   "source": [
    "Woah the block disappear!  \n",
    "Let's experiment with different types of blocks. use TAB after typing block. to see a list of available blocks or go to the API reference page."
   ]
  },
  {
   "cell_type": "code",
   "execution_count": 10,
   "metadata": {},
   "outputs": [],
   "source": [
    "placeBlockHere(block.DIAMOND_BLOCK.id)"
   ]
  },
  {
   "cell_type": "markdown",
   "metadata": {},
   "source": [
    "Note: some blocks have special properties, e.g. TNT and wool"
   ]
  },
  {
   "cell_type": "code",
   "execution_count": 11,
   "metadata": {},
   "outputs": [],
   "source": [
    "placeBlockHere(block.TNT.id, 1) # '1' means active TNT. Hit it!"
   ]
  },
  {
   "cell_type": "code",
   "execution_count": 12,
   "metadata": {},
   "outputs": [],
   "source": [
    "placeBlockHere(block.WOOL.id, 2) # the number means different color, try changing it!"
   ]
  },
  {
   "cell_type": "markdown",
   "metadata": {},
   "source": [
    "For some blocks, you don't want to place it near you, for example LAVA.  Can you try placing it somewhere else?"
   ]
  },
  {
   "cell_type": "code",
   "execution_count": 13,
   "metadata": {},
   "outputs": [],
   "source": [
    "placeBlockAt(3,1,2,block.LAVA.id)"
   ]
  },
  {
   "cell_type": "markdown",
   "metadata": {},
   "source": [
    "If you are too close to LAVA you will get hurt!  Oh no!  Try placing water over the lava to recover"
   ]
  },
  {
   "cell_type": "code",
   "execution_count": 14,
   "metadata": {},
   "outputs": [],
   "source": [
    "placeBlockAt(3,1,2,block.WATER.id)"
   ]
  },
  {
   "cell_type": "markdown",
   "metadata": {},
   "source": [
    "## Build a House\n",
    "\n",
    "*Objective:* Build a house using the skills learned\n",
    "![completed](./screenshots/completed.png)\n",
    "- First build a solid cuboid.\n",
    "![solid](./screenshots/solid.png)\n",
    "- You can use reset() to keep clearing the area as you (re)build."
   ]
  },
  {
   "cell_type": "code",
   "execution_count": 23,
   "metadata": {},
   "outputs": [],
   "source": [
    "reset()\n",
    "# where do you want the house to stand?\n",
    "x=3\n",
    "y=0\n",
    "z=2\n",
    "# how big is the house?\n",
    "width=5\n",
    "height=5\n",
    "depth=5\n",
    "buildCubeAt(x,y,z,width,height,depth,block.BRICK_BLOCK.id)"
   ]
  },
  {
   "cell_type": "markdown",
   "metadata": {
    "collapsed": true
   },
   "source": [
    "- A solid house is no good! You can clear the inside of the cuboid (your walls should be 1 block thick). That is, place an AIR cuboid inside your solid BRICK cuboid.\n",
    "- How big should the 'hollow' cuboid be? Understand why we have the +1 / -1 (depends which side of the house your hollowing).\n",
    "- Understand why the y dimension is special: because we don't need to hollow out the ground floor (did you?)\n",
    "- Fly up to see if the house is now hollow\n",
    "![hollow cube](./screenshots/hollow.png)"
   ]
  },
  {
   "cell_type": "code",
   "execution_count": 24,
   "metadata": {},
   "outputs": [],
   "source": [
    "buildCubeAt(4,1,3,3,4,3,block.AIR.id)"
   ]
  },
  {
   "cell_type": "markdown",
   "metadata": {},
   "source": [
    "- Now try to add a roof!  we created a function called buildRoofAt that help you do this, try it out!  Just use the exact same x,y,z,width,height,depth as your first cube and give your roof a nice block type!\n",
    "        buildRoofAt(x,y,z,width,height,depth,block type)"
   ]
  },
  {
   "cell_type": "code",
   "execution_count": 25,
   "metadata": {},
   "outputs": [],
   "source": [
    "buildRoofAt(3,0,2,5,5,5,block.MELON.id)"
   ]
  },
  {
   "cell_type": "markdown",
   "metadata": {},
   "source": [
    "- But you can't break blocks everytime you want to enter or exit your house! Enhance your program to clear a doorway. Which side of the house will you make a doorway?\n",
    "\n",
    "![house function](./screenshots/completed.png)"
   ]
  },
  {
   "cell_type": "code",
   "execution_count": 26,
   "metadata": {},
   "outputs": [],
   "source": [
    "buildCubeAt(5,0,2,1,2,1,block.AIR.id)"
   ]
  },
  {
   "cell_type": "markdown",
   "metadata": {},
   "source": [
    "Now turn your code into a build_house function for reuse!"
   ]
  },
  {
   "cell_type": "code",
   "execution_count": 36,
   "metadata": {},
   "outputs": [],
   "source": [
    "def build_house(x,y,z):\n",
    "    # how big is the house?\n",
    "    width=5\n",
    "    height=5\n",
    "    depth=5\n",
    "    buildCubeAt(x,y,z,width,height,depth,block.GLASS.id)\n",
    "    buildCubeAt(x+1,y,z+1,3,4,3,block.AIR.id)\n",
    "    buildRoofAt(x,y,z,5,5,5,block.GLASS.id)\n",
    "    buildCubeAt(x+2,y,z,1,2,1,block.AIR.id)"
   ]
  },
  {
   "cell_type": "markdown",
   "metadata": {},
   "source": [
    "If you reset your world using reset(), or tear down your house manually, calling build_house() helps you rebuild your house!"
   ]
  },
  {
   "cell_type": "code",
   "execution_count": 37,
   "metadata": {},
   "outputs": [],
   "source": [
    "reset()\n",
    "build_house(3,0,2)\n"
   ]
  },
  {
   "cell_type": "markdown",
   "metadata": {},
   "source": [
    "### Challenges \n",
    "\n",
    "- Your house is dark inside: place some torches.\n",
    "- Place a few windows using the glass block.\n",
    "- Place some ladders on the outside to allow easy climbing to the roof.\n",
    "- Put in some furniture, a bed, a stove, a door. Perhaps trees and flowers outside. \n",
    "- Would a pool be nice? \n",
    "- How about carpeting? (remember WOOL -- use colors for patterns).\n",
    "- Can you make your build_house function build a house somewhere else?\n",
    "- Now you have a build_house function you can call many times. Can you build a whole village of houses? Are all your houses the same size? (hint: try random.randrange(start, end))\n",
    "![village](./screenshots/village.png)\n",
    "- Perhaps it's not a house, but a castle! Build a tower on each corner. And a moat around."
   ]
  },
  {
   "cell_type": "code",
   "execution_count": 13,
   "metadata": {},
   "outputs": [
    {
     "name": "stdout",
     "output_type": "stream",
     "text": [
      "Create ground and moat\n",
      "Create outer walls\n",
      "Create inner walls\n",
      "Create Keep with 4 levels\n",
      "Position player on Keep's walkway\n"
     ]
    }
   ],
   "source": [
    "castle()"
   ]
  },
  {
   "cell_type": "code",
   "execution_count": 59,
   "metadata": {},
   "outputs": [],
   "source": [
    "def build_castle(x,y,z):\n",
    "\n",
    "    width=15\n",
    "    height=15\n",
    "    depth=25\n",
    "    buildCubeAt(x,y,z,width,height,depth,block.BOOKSHELF.id)\n",
    "    buildCubeAt(x+1,y,z+1,13,14,13,block.AIR.id)\n",
    "    buildRoofAt(x,y,z,15,15,25,block.BOOKSHELF.id)\n",
    "    buildCubeAt(x+5,y,z,5,5,3,block.AIR.id)"
   ]
  },
  {
   "cell_type": "code",
   "execution_count": 60,
   "metadata": {},
   "outputs": [],
   "source": [
    "reset()\n",
    "build_castle(3,0,4) "
   ]
  },
  {
   "cell_type": "code",
   "execution_count": null,
   "metadata": {},
   "outputs": [],
   "source": []
  }
 ],
 "metadata": {
  "kernelspec": {
   "display_name": "Python 3 (ipykernel)",
   "language": "python",
   "name": "python3"
  },
  "language_info": {
   "codemirror_mode": {
    "name": "ipython",
    "version": 3
   },
   "file_extension": ".py",
   "mimetype": "text/x-python",
   "name": "python",
   "nbconvert_exporter": "python",
   "pygments_lexer": "ipython3",
   "version": "3.7.3"
  }
 },
 "nbformat": 4,
 "nbformat_minor": 1
}
