{
 "cells": [
  {
   "cell_type": "markdown",
   "metadata": {
    "collapsed": true
   },
   "source": [
    "# Minecraft Programming\n",
    "\n",
    "## Resources\n",
    "\n",
    "* Introduction to the Minecraft Python API: http://www.stuffaboutcode.com/2013/04/minecraft-pi-edition-api-tutorial.html\n",
    "* API reference: http://www.stuffaboutcode.com/p/minecraft-api-reference.html\n"
   ]
  },
  {
   "cell_type": "markdown",
   "metadata": {},
   "source": [
    "The below block of code will give you a fresh start and create a new Minecraft world. If you want to continue with your current setup, skip the code snippet below:"
   ]
  },
  {
   "cell_type": "code",
   "execution_count": null,
   "metadata": {
    "collapsed": true
   },
   "outputs": [],
   "source": [
    "import mcpi.minecraft as minecraft\n",
    "import mcpi.block as block\n",
    "import time\n",
    "mc = minecraft.Minecraft.create()\n",
    "\n",
    "# use the below code to level the ground in your world with grass blocks all around\n",
    "# you can reuse the function below to level the playing field at any point\n",
    "def bulldoze:\n",
    "    mc.setBlocks(-128,0,-128,128,64,128,0)\n",
    "    if(len(sys.argv) &gt; 1):\n",
    "            bid = int(sys.argv[1])\n",
    "    else:\n",
    "            bid = block.GRASS.id\n",
    "\n",
    "    if bid  108:\n",
    "            bid = block.GRASS.id\n",
    "\n",
    "    mc.setBlocks(-128,0,-128,128,-64,128,bid)\n",
    "    \n",
    "# move to (0,0,0)\n",
    "mc.player.setPos(0, 0, 0)\n",
    "\n",
    "# TODO: create function here to create grid at (0,0,0)"
   ]
  },
  {
   "cell_type": "markdown",
   "metadata": {},
   "source": [
    "\n",
    "## Option 1: Anarkali\n",
    "\n",
    "Anarkali (Pomegranate Blossom) lived in 17th Century India. She fell in love with the Prince and the King built a wall around her to keep her and the Prince apart.\n",
    "\n",
    "*Objective:* Build four walls around your player when she steps onto the trap (and eventually help her escape).\n",
    "\n",
    "![Anarkali](./screenshots/anarkali.png)\n",
    "\n",
    "**Try it!** Before you start, you might want to sketch it out with pencil and paper. What range of coordinates will your walls cover?\n"
   ]
  },
  {
   "cell_type": "code",
   "execution_count": null,
   "metadata": {
    "collapsed": true
   },
   "outputs": [],
   "source": [
    "def buildWalls(x, y, z):\n",
    "    brick = block.BRICK_BLOCK.id\n",
    "    # This code builds 1 of 4 walls\n",
    "    mc.setBlock(x-1, y, z-1, brick)\n",
    "    mc.setBlock(x, y, z-1, brick)\n",
    "    mc.setBlock(x+1, y, z-1, brick)\n",
    "    # fix me: Build the other 3 walls"
   ]
  },
  {
   "cell_type": "markdown",
   "metadata": {},
   "source": [
    "Call the buildWalls function with coordinates close to you (how to do you do this automatically?). Or bulldoze first to clear the same build area."
   ]
  },
  {
   "cell_type": "code",
   "execution_count": null,
   "metadata": {
    "collapsed": true
   },
   "outputs": [],
   "source": [
    "while True:\n",
    "    time.sleep(1)  # check every second\n",
    "    x, y, z = mc.player.getTilePos()\n",
    "    if : # fix me: detect if player is on trap position\n",
    "        buildWalls(x, y, z) # fix me: how many times do you need to build up (increase y)?\n",
    "        break  # end whlile loop (so we don't keep rebuilding the walls)"
   ]
  },
  {
   "cell_type": "markdown",
   "metadata": {},
   "source": [
    "Fix the code above to detect when Anarkali is on the trap position, and build the walls around her.\n",
    "\n",
    "Make sure your walls are high enough so she can't jump out!\n",
    "\n",
    "Though it's fun to watch the blocks line up, there are faster ways to build structures. Rather than looping and setting a single block at a time, we can set a range of blocks together:"
   ]
  },
  {
   "cell_type": "code",
   "execution_count": null,
   "metadata": {
    "collapsed": true
   },
   "outputs": [],
   "source": [
    "# build a 3x3 cube (using start and end coordinates)\n",
    "x, y, z = mc.player.getTilePos()\n",
    "mc.setBlocks(x-1, y-1, z-1, x+1, y+1, z+1, block.BRICK_BLOCK.id) # where should y start and end?"
   ]
  },
  {
   "cell_type": "markdown",
   "metadata": {},
   "source": [
    "In the code above, are you building the cube on top of you, or some distance away? And is the block above ground, or (part of it) below ground?\n",
    "\n",
    "**Try it!** You can use the same trick for the bulldozer program you wrote earlier. In fact you should be bulldozing everytime you experiment with new contruction!"
   ]
  },
  {
   "cell_type": "markdown",
   "metadata": {},
   "source": [
    "But we don't need a solid cube. Set AIR blocks to hollow the inside."
   ]
  },
  {
   "cell_type": "code",
   "execution_count": null,
   "metadata": {
    "collapsed": true
   },
   "outputs": [],
   "source": [
    "x, y, z = mc.player.getTilePos()\n",
    "mc.setBlocks(x, y, z, x, y+1, z, block.AIR.id) # how high does y need to go?"
   ]
  },
  {
   "cell_type": "markdown",
   "metadata": {},
   "source": [
    "You can also build a higher or thicker structure (to prevent escape). \n",
    "\n",
    "Once you've figured out how to use setBlocks to build your tower, you can update your buildWalls() function from before. Isn't is much simpler now?"
   ]
  },
  {
   "cell_type": "markdown",
   "metadata": {},
   "source": [
    "The King's heart softens and he allows the Prince to rescue Anarkali. The Prince sets a special timer that catapults Anarkali out of the walls and lands outside.\n",
    "\n",
    "You can set player position to help Anarkali escape. Use 'time' to wait (3 seconds) before the escape. Can you show a countdown on screen so we know how many more seconds before escape?\n",
    "\n",
    "Experiment with the code below and then add it to your program above."
   ]
  },
  {
   "cell_type": "code",
   "execution_count": null,
   "metadata": {
    "collapsed": true
   },
   "outputs": [],
   "source": [
    "x, y, z = mc.player.getTilePos()\n",
    "mc.player.setPos(x+10, y+10, z+10)  # move player to a new position, and watch her fall to earth"
   ]
  },
  {
   "cell_type": "markdown",
   "metadata": {},
   "source": [
    "**Challenge:** What if Anarkali was born in Eygpt not India? Would the king build a tower, or... a Pyramid!"
   ]
  },
  {
   "cell_type": "markdown",
   "metadata": {},
   "source": [
    "**Challenge:** What else would you put around the tower / pyramid to prevent escape? A moat of water. Lava perhaps? Try a single block of WATER or LAVA (it flows!)."
   ]
  },
  {
   "cell_type": "markdown",
   "metadata": {},
   "source": [
    "## Option 2: Build a House\n",
    "\n",
    "*Objective:* Build a house using the skills learned\n",
    "\n",
    "- Remember the house you built earlier? Let's try building the same using programming.\n",
    "- First build a solid cuboid. Use the same dimensions as your original house.\n",
    "- You can use your bulldozer to keep clearing the area as you (re)build.\n",
    "\n",
    "![cube](./screenshots/build_cube.png)"
   ]
  },
  {
   "cell_type": "code",
   "execution_count": null,
   "metadata": {
    "collapsed": true
   },
   "outputs": [],
   "source": [
    "def build_house(width, depth, height):\n",
    "    pos = mc.player.getTilePos()\n",
    "    for x :  # fix me: three loops for a width x depth x height cube\n",
    "        for z :\n",
    "            for y :\n",
    "                mc.setBlock(pos.x + x, pos.y + y, pos.z + z, block.BRICK_BLOCK.id)\n",
    "\n",
    "build_house(?, ?, ?)  # fix me: what are the dimensions of your house?"
   ]
  },
  {
   "cell_type": "markdown",
   "metadata": {},
   "source": [
    "- Do you want to build it where you're standing (and get trapped inside), or some distance away from you?\n",
    "\n",
    "- **Try it!** bulldoze some space for your house before your start building. \n",
    "\n",
    "- Though it's fun to watch the blocks line up, there are faster ways to build structures. Rather than looping and setting a single block at a time, we can set a range of blocks together:"
   ]
  },
  {
   "cell_type": "code",
   "execution_count": null,
   "metadata": {
    "collapsed": true
   },
   "outputs": [],
   "source": [
    "mc.setBlocks(start x, start y, start z, end x, end y, end z, block.BRICK_BLOCK.id)"
   ]
  },
  {
   "cell_type": "markdown",
   "metadata": {
    "collapsed": true
   },
   "source": [
    "- Enhance your build_house function to use the single setBlocks command rather than 3 loops.\n",
    "- A solid house is no good! You can clear the inside of the cuboid (your walls should be 1 block thick). That is, place an AIR cuboid inside your solid BRICK cuboid.\n",
    "- How big should the 'hollow' cuboid be? Understand why we have the +1 / -1 (depends which side of the house your hollowing).\n",
    "- Understand why the y dimension is special: because we don't need to hollow out the ground floor (did you?)\n",
    "\n",
    "![hollow cube](./screenshots/hollow_cube.png)"
   ]
  },
  {
   "cell_type": "markdown",
   "metadata": {},
   "source": [
    "- Once the cube is built, you can break up a few blocks to convince yourself that it is indeed hollow.\n",
    "- But you can't break blocks everytime you want to enter or exit your house! Enhance your program to clear a doorway. Which side of the house will you make a doorway?\n",
    "\n",
    "![house function](./screenshots/house_function.png)"
   ]
  },
  {
   "cell_type": "markdown",
   "metadata": {},
   "source": [
    "### For fun (using programming): \n",
    "- Your house is dark inside: place some torches.\n",
    "- Place a few windows using the glass block.\n",
    "- Place some ladders on the outside to allow easy climbing to the roof.\n",
    "- Put in some furniture, a bed, a stove, a door. Perhaps trees and flowers outside. \n",
    "- Would a pool be nice? \n",
    "- How about carpeting? (remember WOOL -- use colors for patterns).\n",
    "- Perhaps it's not a house, but a castle! Build a tower on each corner. And a moat around.\n",
    "- You have a have a build_house function you can call many times. Can you build a whole village of houses? Are all your houses the same size?\n",
    "  \n",
    "### Guest House\n",
    "- Do you allow visitors in your house? Perhaps, but we don't want them to stay forever! Detect when someone is inside your house and kick them our after some time!\n",
    "- You can change your position using the setPos() function."
   ]
  },
  {
   "cell_type": "code",
   "execution_count": null,
   "metadata": {
    "collapsed": true
   },
   "outputs": [],
   "source": [
    "while True:\n",
    "    time.sleep(1)\n",
    "    pos = mc.player.getTilePos()\n",
    "    if :  # fix me: is player in your house?\n",
    "        guest_time = guest_time + 1\n",
    "        mc.postToChat(guest_time)\n",
    "    else:\n",
    "        guest_time = 0"
   ]
  },
  {
   "cell_type": "markdown",
   "metadata": {},
   "source": [
    "- Now use this code to kick your player out of the house if she stays too long!"
   ]
  },
  {
   "cell_type": "code",
   "execution_count": null,
   "metadata": {
    "collapsed": true
   },
   "outputs": [],
   "source": [
    "if :  # fix me: how many seconds before the guest is kicked out?\n",
    "    mc.player.setPos(pos.x + ?, pos.y + ?, pos.z + ?)  # fix me: set player position"
   ]
  },
  {
   "cell_type": "markdown",
   "metadata": {},
   "source": [
    "- ** Try this!** Perhaps you never want anyone on the roof -- kick them off immediately if you detect someone on your roof!"
   ]
  },
  {
   "cell_type": "markdown",
   "metadata": {},
   "source": [
    "\n",
    "## Challenge: The Tunnel\n",
    "\n",
    "*Objective:* Introduce loops with interval and modulo\n",
    "\n",
    "- We will dig a tunnel through a mountain and light it up with torches every 3 blocks.\n",
    "- This is complicated enough that you will want to sketch it out on a piece of paper first, particular the concept of direction (which direction does your tunnel go?).\n",
    "- Can't find a mountain? You know how to build a BIG solid block of rock! We can tunnel through that."
   ]
  },
  {
   "cell_type": "markdown",
   "metadata": {},
   "source": [
    "- Write a function that takes the length and direction of your tunnel, and builds a tunnel from where you are standing.\n",
    "![tunnel](./screenshots/tunnel.png)\n",
    "- Use `input` to get input from the keyboard. (`raw_input` in python 2)"
   ]
  },
  {
   "cell_type": "code",
   "execution_count": null,
   "metadata": {
    "collapsed": true
   },
   "outputs": [],
   "source": [
    "def build_tunnel(length, direction):\n",
    "    print(\"building a tunnel of length: \" + str(length) + \" direction: \" + str(direction))\n",
    "    pos = mc.player.getTilePos()\n",
    "\n",
    "    start_x = pos.x\n",
    "    start_y = pos.y\n",
    "    start_z = pos.z\n",
    "\n",
    "    # setup defaults, which will be changed as needed\n",
    "    end_x = start_x\n",
    "    end_y = start_y + height # how high should your tunnel be? 2 blocks?\n",
    "    end_z = start_z\n",
    "\n",
    "    if direction == 1:\n",
    "        end_x = # depends on length and direction\n",
    "    elif direction == 2:\n",
    "        end_x = # depends on length and direction\n",
    "    elif direction == 3:\n",
    "        end_z = # depends on length and direction\n",
    "    elif direction == 4:\n",
    "        end_z = # depends on length and direction\n",
    "\n",
    "    # dig the tunnel\n",
    "    mc.setBlocks(start_x, start_y, start_z,\n",
    "                 end_x,   end_y,   end_z,\n",
    "                 block.AIR.id)\n",
    "\n",
    "length = int(input(\"length of tunnel?\"))\n",
    "direction = int(input(\"direction?\"))\n",
    "\n",
    "build_tunnel(length, direction)"
   ]
  },
  {
   "cell_type": "markdown",
   "metadata": {},
   "source": [
    "- Now let's add some torchers at regular intervals\n",
    "- First let´s review how does range work"
   ]
  },
  {
   "cell_type": "code",
   "execution_count": null,
   "metadata": {
    "collapsed": true
   },
   "outputs": [],
   "source": [
    "# how does range work?\n",
    "for i in range(0,20):\n",
    "    print(i)"
   ]
  },
  {
   "cell_type": "code",
   "execution_count": null,
   "metadata": {
    "collapsed": true
   },
   "outputs": [],
   "source": [
    "step = 3\n",
    "for i in range(0, 20, step):\n",
    "    print(i)"
   ]
  },
  {
   "cell_type": "markdown",
   "metadata": {},
   "source": [
    "- Torches will be need to be placed in the same direction as the tunnel"
   ]
  },
  {
   "cell_type": "code",
   "execution_count": null,
   "metadata": {
    "collapsed": true
   },
   "outputs": [],
   "source": [
    "torch_x = start_x\n",
    "torch_y = # above ground, depends on how high the tunnel is\n",
    "torch_z = start_z\n",
    "\n",
    "for i in range(0, length, 3):\n",
    "\n",
    "    if direction == 1:\n",
    "        # change torch_x or torch_z depending on direction\n",
    "    elif direction == 2:\n",
    "        # change torch_x or torch_z depending on direction\n",
    "    elif direction == 3:\n",
    "        # change torch_x or torch_z depending on direction\n",
    "    elif direction == 4:\n",
    "        # change torch_x or torch_z depending on direction\n",
    "     print(\"placing torch: \", torch_x, torch_y, torch_z)\n",
    "     mc.setBlock(torch_x, torch_y, torch_z, block.TORCH.id, 1)"
   ]
  },
  {
   "cell_type": "markdown",
   "metadata": {},
   "source": [
    "**Try it!** Put torches on both sides of the tunnel, using spaced intervals."
   ]
  },
  {
   "cell_type": "markdown",
   "metadata": {},
   "source": [
    "**Try it!** Build a tunnel which digs a few blocks under the ground, and places a staircase for easy access on both ends"
   ]
  }
 ],
 "metadata": {
  "kernelspec": {
   "display_name": "Python 3",
   "language": "python",
   "name": "python3"
  },
  "language_info": {
   "codemirror_mode": {
    "name": "ipython",
    "version": 3
   },
   "file_extension": ".py",
   "mimetype": "text/x-python",
   "name": "python",
   "nbconvert_exporter": "python",
   "pygments_lexer": "ipython3",
   "version": "3.6.1"
  }
 },
 "nbformat": 4,
 "nbformat_minor": 1
}
