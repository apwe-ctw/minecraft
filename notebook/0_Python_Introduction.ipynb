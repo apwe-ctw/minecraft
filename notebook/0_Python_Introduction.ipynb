{
 "cells": [
  {
   "cell_type": "markdown",
   "metadata": {
    "slideshow": {
     "slide_type": "slide"
    }
   },
   "source": [
    "# Python 101\n",
    "* To execute a cell, click in it and then type [shift] + [enter] or pressing the ▶ button in the toolbar above\n",
    "* To insert a new cell, press [Esc] + [B] to insert a new cell below your current cell <br> or [Esc] + [A] for that above yout current cell\n",
    "* If you are stuck, use ◼ in the toolbar to stop! Or press [Esc], [I], [I] (in sequence, separately)\n",
    "* Press [TAB] to auto-complete Python code\n",
    "* If you need help, try\n",
    "```python\n",
    "help()\n",
    "```\n",
    "* Ask questions to the voluneers 😎"
   ]
  },
  {
   "cell_type": "code",
   "execution_count": 30,
   "metadata": {},
   "outputs": [
    {
     "name": "stdout",
     "output_type": "stream",
     "text": [
      "Hello World\n"
     ]
    }
   ],
   "source": [
    "# Try to run this cell\n",
    "print(\"Hello World\")"
   ]
  },
  {
   "cell_type": "markdown",
   "metadata": {},
   "source": [
    "## What is programming\n",
    "\n",
    "We use programming to give commands to do specific tasks. It is a very powerful tool. \n",
    "\n",
    "You should have learn about basic programming from this [Game](https://compute-it.toxicode.fr/?hour-of-code)"
   ]
  },
  {
   "cell_type": "markdown",
   "metadata": {},
   "source": [
    "## Data Type\n",
    "\n",
    "Python have these basic data type\n",
    "- int (e.g. `1`)\n",
    "- float (e.g. `1.5`)\n",
    "- str (e.g. `'word'`, `'This is a sentence!'`)\n",
    "- bool (`True`, `False`)\n",
    "- list (e.g. `[1, 2, 3]` is a collection of 3 integer)\n",
    "- tuple (e.g. `(1, 2, 3)` is a collection of 3 integer) <- Tuple will not be covered in today lesson\n",
    "- `None` (Meaning empty) <- None will not be covered in today lesson"
   ]
  },
  {
   "cell_type": "markdown",
   "metadata": {},
   "source": [
    "### Integer and float \n",
    "\n",
    "They are *numeric* data.\n",
    "\n",
    "Example:  \n",
    "- `1` is integer\n",
    "- `1.` is float\n",
    "- `0.5` is float\n",
    "- `1/2` result in `0.5`, is also float\n",
    "\n",
    "You can do calculation by this operators\n",
    "- +\n",
    "- -\n",
    "- *\n",
    "- /\n",
    "- ** (power)"
   ]
  },
  {
   "cell_type": "markdown",
   "metadata": {},
   "source": [
    "### Task 0 - Basic calculation\n",
    "\n",
    "Use python to do these calculations\n",
    "\n",
    "*BTW, Python counts from 0 instead of 1 (you will know why)*"
   ]
  },
  {
   "cell_type": "markdown",
   "metadata": {},
   "source": [
    "What is the perimeter of a Square with length 5 cm?\n",
    "\n",
    "Your Answer:"
   ]
  },
  {
   "cell_type": "code",
   "execution_count": 10,
   "metadata": {},
   "outputs": [
    {
     "data": {
      "text/plain": [
       "20"
      ]
     },
     "execution_count": 10,
     "metadata": {},
     "output_type": "execute_result"
    }
   ],
   "source": [
    "# Your answer here\n",
    "5 * 4"
   ]
  },
  {
   "cell_type": "markdown",
   "metadata": {},
   "source": [
    "What is the area of a circle with the radius of 11.3 cm?\n",
    "\n",
    "Hints: you can use this for pi\n",
    "``` Python\n",
    "import math\n",
    "math.pi\n",
    "```\n",
    "Your Answer:"
   ]
  },
  {
   "cell_type": "code",
   "execution_count": 11,
   "metadata": {},
   "outputs": [
    {
     "data": {
      "text/plain": [
       "401.14996593688073"
      ]
     },
     "execution_count": 11,
     "metadata": {},
     "output_type": "execute_result"
    }
   ],
   "source": [
    "# Your answer here\n",
    "import math\n",
    "math.pi * 11.3 ** 2"
   ]
  },
  {
   "cell_type": "markdown",
   "metadata": {},
   "source": [
    "### String\n",
    "\n",
    "String is text. They are enclosed by single-quotes `'` or double-quotes `\"`. both quotes are the same, you can choose to use either one. (but dont mix them)\n",
    "\n",
    "\n",
    "Example:\n",
    "- `\"s\"`\n",
    "- `'s'`\n",
    "- `\"This is a long long long long long str\"` (They can be very long. No limit in the length, the only limit is your computer memory)\n",
    "- `\"str 也可以有中文\"`\n",
    "\n",
    "**adding str**\n",
    "\n",
    "You can *add* 2 str by using `+`\n",
    "```Python\n",
    "\"Hi, \" + 'how are you?' # output is \"Hi, how are you\"\n",
    "```\n",
    "\n",
    "Or even more str\n",
    "```Python\n",
    "\"Adding \" + \"more than\" + \" 2 str\" + \" together\" # Adding more than 2 str together.\n",
    "```\n",
    "\n",
    "**len**\n",
    "\n",
    "You can count how many character is in the str by using `len()`\n",
    "```Python\n",
    "len(\"this str has N characters\") # output is 25\n",
    "```\n",
    "\n",
    "There exist empty str `\"\"`\n",
    "```Python\n",
    "len(\"\") # output is 0\n",
    "```\n",
    "\n",
    "**convert str to number**\n",
    "\n",
    "If the str is a number, i.e. \"3.14\", you can convert it to float by using `float()` or `int()`\n",
    "```Python\n",
    "float(\"3.14\") # output is 3.14\n",
    "```\n",
    "\n",
    "**convert number to str**\n",
    "\n",
    "You can convert any number to str by `str()`\n",
    "```Python\n",
    "\"Now you can add number to a str: \" + str(2) + \" and \" + str(2.0) # \"Now you can add number to a str: 2 and 2.0\"\n",
    "```\n",
    "\n",
    "**input from keyboard**\n",
    "\n",
    "Programming can not be just coding all data in the programming. <br>You can input data with your keyboard by `input()`\n",
    "```Python\n",
    "input(\"What is your age?\")\n",
    "```"
   ]
  },
  {
   "cell_type": "markdown",
   "metadata": {},
   "source": [
    "### Task 1 - str Manipulation"
   ]
  },
  {
   "cell_type": "markdown",
   "metadata": {},
   "source": [
    "Write a code to output the length of the str from a input\n",
    "\n",
    "Your Answer:"
   ]
  },
  {
   "cell_type": "code",
   "execution_count": 18,
   "metadata": {},
   "outputs": [
    {
     "name": "stdin",
     "output_type": "stream",
     "text": [
      " 123123123\n"
     ]
    },
    {
     "data": {
      "text/plain": [
       "9"
      ]
     },
     "execution_count": 18,
     "metadata": {},
     "output_type": "execute_result"
    }
   ],
   "source": [
    "# Your answer here\n",
    "len(input())"
   ]
  },
  {
   "cell_type": "markdown",
   "metadata": {},
   "source": [
    "Write code to\n",
    "1. get input of your year of birth\n",
    "2. calculate your age\n",
    "\n",
    "Your Answer:"
   ]
  },
  {
   "cell_type": "code",
   "execution_count": 19,
   "metadata": {},
   "outputs": [
    {
     "name": "stdin",
     "output_type": "stream",
     "text": [
      "Year of birth: 2000\n"
     ]
    },
    {
     "data": {
      "text/plain": [
       "25"
      ]
     },
     "execution_count": 19,
     "metadata": {},
     "output_type": "execute_result"
    }
   ],
   "source": [
    "# Your answer here\n",
    "2025 - int(input(\"Year of birth:\"))"
   ]
  },
  {
   "cell_type": "markdown",
   "metadata": {},
   "source": [
    "### Bool\n",
    "\n",
    "Boolean have only two value: `True` or `False`\n",
    "\n",
    "this is usually use to do comparison (either numerical or str comparison)\n",
    "\n",
    "**comparison operators**\n",
    "\n",
    "| == | != | < | > | <= | >= |\n",
    "|----|----|----|--|----|----|\n",
    "| equals | not equals | less than | greater than | less than or equal to | greater than or equal to |\n",
    "\n",
    "**numerical comparison**\n",
    "\n",
    "We only care about the value of the numbers, data type (int, float) is not important :\n",
    "```Python\n",
    "1.0 == 1  # True\n",
    "1.0 > 1   # False\n",
    "-5 <= 100 # True\n",
    "```\n",
    "**str comparison**\n",
    "\n",
    "data type is also important\n",
    "```Python\n",
    "1.0 == \"1\"     # False\n",
    "\"Abc\" == 'Abc' # True\n",
    "'A' != 'a'     # True \n",
    "```\n",
    "\n",
    "It does comparison character-by-character, untill there is a conclusion\n",
    "\n",
    "```Python\n",
    "\"ABCdefghijk\" == \"ABCxef\"\n",
    "```\n",
    "- this will first compare `\"A\" == \"A\"` -> no conclusion\n",
    "- then \"B\" == \"B\" -> no conclusion\n",
    "- then \"C\" == \"C\" -> no conclusion\n",
    "- then \"d\" == \"x\" -> not equal\n",
    "- so this return a `False`\n",
    "\n",
    "so some numerical comparison but be wrong if you use str to represent numbers\n",
    "\n",
    "```Python\n",
    "200 > 3     # True\n",
    "\"200\" > \"3\" # False\n",
    "\"200\" > 3   # You cannot use > or < to compare str and numbers\n",
    "```\n",
    "\n",
    "**And, Or, Not**\n",
    "\n",
    "You can combine multiple compare statement with `and`, `or`, `not`\n",
    "\n",
    "```Python\n",
    "not True  # False\n",
    "\"Abc\" > \"abc\" or 5 > 2  # False or True -> True\n",
    "\"Abc\" > \"abc\" and 5 > 2 # False and True -> False\n",
    "```"
   ]
  },
  {
   "cell_type": "markdown",
   "metadata": {},
   "source": [
    "**Question**: Why \"Abc\" < \"abc\" ?"
   ]
  },
  {
   "cell_type": "markdown",
   "metadata": {},
   "source": [
    "### Task 2 - comparison"
   ]
  },
  {
   "cell_type": "markdown",
   "metadata": {},
   "source": [
    "I have a wooden stick of 25m. Which method will make me have the larger area?\n",
    "1. build a squre (each side have 25/4 meters)\n",
    "2. build a recentagle (5.5m, 5.5m, 7m, 7m)\n",
    "\n",
    "Your Answer:"
   ]
  },
  {
   "cell_type": "code",
   "execution_count": 31,
   "metadata": {},
   "outputs": [
    {
     "data": {
      "text/plain": [
       "False"
      ]
     },
     "execution_count": 31,
     "metadata": {},
     "output_type": "execute_result"
    }
   ],
   "source": [
    "# Your answer here\n",
    "25/4 ** 2 > 5.5 * 7"
   ]
  },
  {
   "cell_type": "markdown",
   "metadata": {},
   "source": [
    "# Python 102\n",
    "\n",
    "Congratulations on finishing the Python 101. Lets move on to variable"
   ]
  },
  {
   "cell_type": "markdown",
   "metadata": {},
   "source": [
    "## Variable\n",
    "\n",
    "A variable is has a name and it can stores any value.\n",
    "A variable's value can be modified later.\n",
    "```Python\n",
    "pi = 3.14  # this create a new variable `pi` with the value of 3.14\n",
    "pi = 3.1415926535 # you can modify it at anytime to any value\n",
    "```"
   ]
  },
  {
   "cell_type": "markdown",
   "metadata": {},
   "source": [
    "### Task 3 - use variable to create a message with multiple information"
   ]
  },
  {
   "cell_type": "markdown",
   "metadata": {},
   "source": [
    "#### Using Text to print the heading of your birthday card!\n",
    "\n",
    "A variable is something that has a name and stores any value you give it for you to use later. \n",
    "You can put your invitation message in a variable and then print your message.  This helps you to change the message easily later.  \n",
    "Let's name your variable welcomeMessage. \n",
    "\n",
    "Notice that variable names are not out in quotation marks, hence welcomeMessage instead of \"welcomeMessage\".  We only need quotation marks for strings that are assigned to the variable.\n",
    "\n",
    "Variable names must not have any spaces. Hence welcomeMessage, instead of Welcome Message\n"
   ]
  },
  {
   "cell_type": "code",
   "execution_count": 3,
   "metadata": {},
   "outputs": [
    {
     "name": "stdout",
     "output_type": "stream",
     "text": [
      "Hello! I'm very excited to invite you to my birthday party!\n"
     ]
    }
   ],
   "source": [
    "welcomeMessage = \"Hello! I'm very excited to invite you to my birthday party!\"\n",
    "print(welcomeMessage)"
   ]
  },
  {
   "cell_type": "markdown",
   "metadata": {},
   "source": [
    "#### 😎 Your turn to put the welcomeMessage, and print it out!"
   ]
  },
  {
   "cell_type": "code",
   "execution_count": 6,
   "metadata": {
    "scrolled": true
   },
   "outputs": [
    {
     "name": "stdout",
     "output_type": "stream",
     "text": [
      "Easy!\n"
     ]
    }
   ],
   "source": [
    "welcomeMessage = \"Easy!\"\n",
    "print (welcomeMessage)"
   ]
  },
  {
   "cell_type": "markdown",
   "metadata": {},
   "source": [
    "#### What's is your age on this brithday party?\n",
    "It's 29! Let me answer you by printing  it out\n",
    "\n",
    "Notice that we did not use qoutation marks this time, because we are printing a number, not string (text).  We need quotation marks only for strings, not for number and not for variables. \n"
   ]
  },
  {
   "cell_type": "code",
   "execution_count": 7,
   "metadata": {},
   "outputs": [
    {
     "name": "stdout",
     "output_type": "stream",
     "text": [
      "29\n"
     ]
    }
   ],
   "source": [
    "print(29)"
   ]
  },
  {
   "cell_type": "markdown",
   "metadata": {},
   "source": [
    "#### Variables - integer\n",
    "Just like variables can be equal to (i.e. assigned to) a string, variables can be assigned to a number as well.  Numbers are called integer, just like text is called string"
   ]
  },
  {
   "cell_type": "code",
   "execution_count": 8,
   "metadata": {},
   "outputs": [
    {
     "name": "stdout",
     "output_type": "stream",
     "text": [
      "29\n"
     ]
    }
   ],
   "source": [
    "age = 29\n",
    "print(age)"
   ]
  },
  {
   "cell_type": "markdown",
   "metadata": {},
   "source": [
    "#### 😎 How about you? Tell us what's your age on this birthday party"
   ]
  },
  {
   "cell_type": "code",
   "execution_count": 9,
   "metadata": {
    "scrolled": true
   },
   "outputs": [
    {
     "name": "stdout",
     "output_type": "stream",
     "text": [
      "100\n"
     ]
    }
   ],
   "source": [
    "age = 100\n",
    "print (age)"
   ]
  },
  {
   "cell_type": "markdown",
   "metadata": {},
   "source": [
    "#### Put all these strings and integers together in the welcome message\n",
    "\n",
    "To print different strings and variables in one go, you can simply add them up by using +\n",
    "\n",
    "See what happens when you run this code"
   ]
  },
  {
   "cell_type": "code",
   "execution_count": 34,
   "metadata": {
    "scrolled": true
   },
   "outputs": [
    {
     "name": "stdout",
     "output_type": "stream",
     "text": [
      "48 24 24\n",
      "Hello Joyce You are invited to Connie's 24th Birthday Party!\n"
     ]
    }
   ],
   "source": [
    "GuestName = \"Joyce\"\n",
    "myName =\"Connie\"\n",
    "age = 12+12\n",
    "print( \"Hello \" + GuestName + \" You are invited to \"+ myName + \"'s \" + str(age) + \"th Birthday Party!\")"
   ]
  },
  {
   "cell_type": "markdown",
   "metadata": {},
   "source": [
    "#### 😎 Your turn to get your welcome message with your name and your guest's name!"
   ]
  },
  {
   "cell_type": "code",
   "execution_count": 10,
   "metadata": {},
   "outputs": [],
   "source": [
    "GuestName = 'James'\n",
    "myName = 'Niki'\n",
    "age = 55"
   ]
  },
  {
   "cell_type": "code",
   "execution_count": 18,
   "metadata": {},
   "outputs": [
    {
     "name": "stdout",
     "output_type": "stream",
     "text": [
      "James You are invited to Niki's\n",
      "James You are invited to  Niki's\n"
     ]
    }
   ],
   "source": [
    "print( GuestName + ' You are invited to ' + myName + \"'s\")\n",
    "print( GuestName ,'You are invited to ' ,myName+\"'s\")\n"
   ]
  },
  {
   "cell_type": "markdown",
   "metadata": {},
   "source": [
    "#### 😎 Try changing the GuestName (on the above and run) and print again"
   ]
  },
  {
   "cell_type": "markdown",
   "metadata": {},
   "source": [
    "## If-Then-Else (branching statement)\n",
    "\n",
    "You can use if-then-else to control which code to execute base on different conditions. Now bool is very usful.\n",
    "\n",
    "The syntax is \n",
    "```\n",
    "if (CONDITION):\n",
    "    (do something if the condition is True)\n",
    "```\n",
    "\n",
    "OR \n",
    "\n",
    "```\n",
    "if (CONDITION):\n",
    "    (do something if the condition is True)\n",
    "else:\n",
    "    (do something if the condition is False)\n",
    "```"
   ]
  },
  {
   "cell_type": "code",
   "execution_count": 44,
   "metadata": {},
   "outputs": [
    {
     "name": "stdout",
     "output_type": "stream",
     "text": [
      "Getting Cooler! I want hot chocolate!\n"
     ]
    }
   ],
   "source": [
    "temperature = 25 #enter value here \n",
    "\n",
    "if temperature > 30:\n",
    "    message = \"It's so hot! I want to get an icecream!!!\"\n",
    "else:\n",
    "    message = \"Getting Cooler! I want hot chocolate!\"\n",
    "\n",
    "print(message)  # what do you expect to see here?"
   ]
  },
  {
   "cell_type": "markdown",
   "metadata": {},
   "source": [
    " Try changing different temperature!"
   ]
  },
  {
   "cell_type": "markdown",
   "metadata": {},
   "source": [
    "### 😎 You decide where to have your birthday party!\n",
    " Your house can have 5 guests, if there are more guests- where do you want to have your birthday party? \n",
    " \n",
    "Notice that for If condition, you are always comparing two things. Usually whether a variable is equal to / less than or greater than something "
   ]
  },
  {
   "cell_type": "code",
   "execution_count": 45,
   "metadata": {},
   "outputs": [
    {
     "name": "stdout",
     "output_type": "stream",
     "text": [
      "Don't come\n"
     ]
    }
   ],
   "source": [
    "numberOfGuests = 5\n",
    "\n",
    "if numberOfGuests > 2:\n",
    "    message = \"Don't come\"\n",
    "else:\n",
    "    message = \"Let's enjoy\"\n",
    "\n",
    "print(message)"
   ]
  },
  {
   "cell_type": "markdown",
   "metadata": {},
   "source": [
    "### Recall: What is Boolean?\n",
    "Boolean is either ```True``` or ```False```.  It is usually seen when we do comparison. Remember the If condition we just learnt, that actually just uses a boolean condition:  If TRUE, do something, Else do something different "
   ]
  },
  {
   "cell_type": "code",
   "execution_count": 21,
   "metadata": {},
   "outputs": [
    {
     "data": {
      "text/plain": [
       "False"
      ]
     },
     "execution_count": 21,
     "metadata": {},
     "output_type": "execute_result"
    }
   ],
   "source": [
    "1 + 1 == 2 # 1+1 is equal to 2\n",
    "1 + 1 != 2"
   ]
  },
  {
   "cell_type": "code",
   "execution_count": 22,
   "metadata": {},
   "outputs": [
    {
     "data": {
      "text/plain": [
       "True"
      ]
     },
     "execution_count": 22,
     "metadata": {},
     "output_type": "execute_result"
    }
   ],
   "source": [
    "\"star war\" == \"star war\""
   ]
  },
  {
   "cell_type": "code",
   "execution_count": 23,
   "metadata": {},
   "outputs": [
    {
     "data": {
      "text/plain": [
       "True"
      ]
     },
     "execution_count": 23,
     "metadata": {},
     "output_type": "execute_result"
    }
   ],
   "source": [
    "Age = 20 \n",
    "Age == 20 # Guess if this is returning true or false?"
   ]
  },
  {
   "cell_type": "code",
   "execution_count": 18,
   "metadata": {},
   "outputs": [
    {
     "data": {
      "text/plain": [
       "False"
      ]
     },
     "execution_count": 18,
     "metadata": {},
     "output_type": "execute_result"
    }
   ],
   "source": [
    "Age > 20 #Guess if this is returning true or false"
   ]
  },
  {
   "cell_type": "code",
   "execution_count": 19,
   "metadata": {},
   "outputs": [
    {
     "data": {
      "text/plain": [
       "False"
      ]
     },
     "execution_count": 19,
     "metadata": {},
     "output_type": "execute_result"
    }
   ],
   "source": [
    "myFriendsAge = 18 \n",
    "myAge = 10 # What's your age?\n",
    "myAge > myFriendsAge #Guess if this is returning true or false"
   ]
  },
  {
   "cell_type": "markdown",
   "metadata": {},
   "source": [
    "We can save boolean to variables too!\n",
    "\n",
    "remember no spaces in variable names!"
   ]
  },
  {
   "cell_type": "code",
   "execution_count": 20,
   "metadata": {},
   "outputs": [],
   "source": [
    "raspberry_pi_is_fun = True\n",
    "raspberry_pi_is_expensive = False"
   ]
  },
  {
   "cell_type": "code",
   "execution_count": 25,
   "metadata": {},
   "outputs": [
    {
     "name": "stdout",
     "output_type": "stream",
     "text": [
      "False\n"
     ]
    }
   ],
   "source": [
    "myFriendsAge = 18 \n",
    "myAge = 10 # What's your age?\n",
    "friend_is_older_than_me = myFriendsAge < myAge #Guess if this is returning true or false\n",
    "print(friend_is_older_than_me)"
   ]
  },
  {
   "cell_type": "markdown",
   "metadata": {},
   "source": [
    "### 😎 Your turn to try. Comparing your height maybe?"
   ]
  },
  {
   "cell_type": "code",
   "execution_count": 27,
   "metadata": {},
   "outputs": [
    {
     "name": "stdout",
     "output_type": "stream",
     "text": [
      "False\n"
     ]
    }
   ],
   "source": [
    "YourHeight = 5\n",
    "MyHeight = 6\n",
    "You_are_taller_than_me = YourHeight>MyHeight\n",
    "print(You_are_taller_than_me)"
   ]
  },
  {
   "cell_type": "markdown",
   "metadata": {},
   "source": [
    "## Function\n",
    "Functions are just pre-defined commands you tell the computer to do.  \n",
    "Like print (), str ()\n",
    "You can create your own commands, or functions too. \n",
    "But first you need to give them a name, so you can refer to them by their name when you need to use those commands. \n",
    "And then you need to tell them what all you want them to do each time you use them.\n",
    "\n",
    "Just like str() converts whatever you provide within the brakets to a string, i.e. text. \n",
    "Just like print() prints out whatever you put within the brakets when you use it\n",
    "\n",
    "Let's learn how your powerful functions can be defined"
   ]
  },
  {
   "cell_type": "code",
   "execution_count": 25,
   "metadata": {},
   "outputs": [],
   "source": [
    "def Invitation():\n",
    "    print (\"Hello\")\n",
    "    print (\"You are invited to my Birthday party\")\n",
    "    print (\"Address: McDonald @Nathan Road, TST\")\n",
    "    print (\"Time: 3:30pm - 4:30pm\")\n",
    "    "
   ]
  },
  {
   "cell_type": "markdown",
   "metadata": {},
   "source": [
    "Nothing printed? Let's try using the function. \n",
    "Once you have defined the function, you then use the name you gave it, to use it, in programming words - to call it.  "
   ]
  },
  {
   "cell_type": "code",
   "execution_count": 26,
   "metadata": {},
   "outputs": [
    {
     "name": "stdout",
     "output_type": "stream",
     "text": [
      "Hello\n",
      "You are invited to my Birthday party\n",
      "Address: McDonald @Nathan Road, TST\n",
      "Time: 3:30pm - 4:30pm\n"
     ]
    }
   ],
   "source": [
    "Invitation()"
   ]
  },
  {
   "cell_type": "markdown",
   "metadata": {},
   "source": [
    "### 😎 Your turn to build your invitation"
   ]
  },
  {
   "cell_type": "code",
   "execution_count": 29,
   "metadata": {},
   "outputs": [],
   "source": [
    "def Invitation():\n",
    "    print (\"hii\")\n",
    "    print (\"byeee\")\n",
    "    print(\"balabala\")\n",
    "    "
   ]
  },
  {
   "cell_type": "code",
   "execution_count": 30,
   "metadata": {},
   "outputs": [
    {
     "name": "stdout",
     "output_type": "stream",
     "text": [
      "hii\n",
      "byeee\n",
      "balabala\n"
     ]
    }
   ],
   "source": [
    "Invitation()"
   ]
  },
  {
   "cell_type": "markdown",
   "metadata": {},
   "source": [
    "Let's be more polite and include your guest's name"
   ]
  },
  {
   "cell_type": "code",
   "execution_count": 31,
   "metadata": {},
   "outputs": [],
   "source": [
    "def Invitation(name,occasion):\n",
    "    print (\"Hello \" + name)\n",
    "    print (\"You are invited to my\",occasion)\n",
    "    print (\"Address: McDonald @Nathan Road, TST\")\n",
    "    print (\"Time: 3:30pm - 4:30pm\")"
   ]
  },
  {
   "cell_type": "code",
   "execution_count": 32,
   "metadata": {},
   "outputs": [
    {
     "name": "stdout",
     "output_type": "stream",
     "text": [
      "Hello Jane\n",
      "You are invited to my Birthday party\n",
      "Address: McDonald @Nathan Road, TST\n",
      "Time: 3:30pm - 4:30pm\n"
     ]
    }
   ],
   "source": [
    "Invitation(\"Jane\",\"Birthday party\")"
   ]
  },
  {
   "cell_type": "markdown",
   "metadata": {},
   "source": [
    "We can keep calling the function to all your guests and prepare the welcome message"
   ]
  },
  {
   "cell_type": "code",
   "execution_count": 29,
   "metadata": {
    "scrolled": true
   },
   "outputs": [
    {
     "name": "stdout",
     "output_type": "stream",
     "text": [
      "Hello Jane\n",
      "You are invited to my Birthday party\n",
      "Address: McDonald @Nathan Road, TST\n",
      "Time: 3:30pm - 4:30pm\n",
      "Hello Katie\n",
      "You are invited to my Birthday party\n",
      "Address: McDonald @Nathan Road, TST\n",
      "Time: 3:30pm - 4:30pm\n",
      "Hello Vincent\n",
      "You are invited to my Birthday party\n",
      "Address: McDonald @Nathan Road, TST\n",
      "Time: 3:30pm - 4:30pm\n"
     ]
    }
   ],
   "source": [
    "Invitation(\"Jane\")\n",
    "Invitation(\"Katie\")\n",
    "Invitation(\"Vincent\")"
   ]
  },
  {
   "cell_type": "markdown",
   "metadata": {},
   "source": [
    "### 😎 Your turn to prepare your welcome message and print to different guests!"
   ]
  },
  {
   "cell_type": "code",
   "execution_count": 50,
   "metadata": {
    "tags": []
   },
   "outputs": [],
   "source": [
    "def invitation():\n",
    "    pass"
   ]
  },
  {
   "cell_type": "code",
   "execution_count": 51,
   "metadata": {},
   "outputs": [],
   "source": [
    "invitation()"
   ]
  },
  {
   "cell_type": "markdown",
   "metadata": {},
   "source": [
    "## Loops\n",
    "\n",
    "Recall the game: You have learnt `repeat(4) {}` and `while(x>1) {}`.\n",
    "\n",
    "We call them `for-loop` and `while-loop`\n",
    "\n",
    "```Python\n",
    "for i in range(5):\n",
    "    print(i)\n",
    "```"
   ]
  },
  {
   "cell_type": "code",
   "execution_count": 52,
   "metadata": {},
   "outputs": [
    {
     "name": "stdout",
     "output_type": "stream",
     "text": [
      "0\n",
      "1\n",
      "2\n",
      "3\n",
      "4\n"
     ]
    }
   ],
   "source": [
    "for i in range(5):\n",
    "    print(i)"
   ]
  },
  {
   "cell_type": "code",
   "execution_count": 53,
   "metadata": {},
   "outputs": [
    {
     "name": "stdout",
     "output_type": "stream",
     "text": [
      "0\n",
      "1\n",
      "3\n",
      "7\n"
     ]
    }
   ],
   "source": [
    "x = 0\n",
    "while x < 10:\n",
    "    print(x)\n",
    "    x = 2 * x + 1"
   ]
  },
  {
   "cell_type": "markdown",
   "metadata": {},
   "source": [
    "### List\n",
    "\n",
    "list is a collection of element. It can be a mix of datatype. you can loop through the collection\n",
    "\n",
    "Example: \n",
    "```Python\n",
    "[1, 2, 3, 3.5]\n",
    "[\"A List of mixed datatype\", 1, -0.5]\n",
    "[]  # Empty list\n",
    "```"
   ]
  },
  {
   "cell_type": "markdown",
   "metadata": {},
   "source": [
    "### Task 4 - Loop through elements\n",
    "\n",
    "Create a list of messages and print them\n",
    "\n",
    "Output: \n",
    "```\n",
    "Hi.\n",
    "This is my\n",
    "day 0\n",
    "in Python.\n",
    "```\n",
    "\n",
    "Your Answer:"
   ]
  },
  {
   "cell_type": "code",
   "execution_count": 55,
   "metadata": {},
   "outputs": [],
   "source": [
    "messages = [] # Create you message here\n",
    "\n",
    "# Write you loop here"
   ]
  },
  {
   "cell_type": "markdown",
   "metadata": {},
   "source": [
    "### Task 5 - Stop at 0\n",
    "\n",
    "Create a loop that ask user to input text, count how many data have been inputted before you input 0\n",
    "\n",
    "Your Answer:"
   ]
  },
  {
   "cell_type": "code",
   "execution_count": 57,
   "metadata": {},
   "outputs": [],
   "source": [
    "# Your answer here:\n"
   ]
  },
  {
   "cell_type": "markdown",
   "metadata": {},
   "source": [
    "# Challenges\n",
    "\n",
    "Congratulation on finishing the tutorial :) \n",
    "\n",
    "Now there are some challenges for you!!! Have Fun!"
   ]
  },
  {
   "cell_type": "markdown",
   "metadata": {},
   "source": [
    "## Challenge 0: Pak7 (拍7)\n",
    "\n",
    "**Task:** 拍7 is a common game. You count loud from 1-100 (or even more). But if the number is a multi of 7 or consist of the letter `7`. You dont count the number but instead you clap. \n",
    "\n",
    "Create a program that prints numbers from 1 to N. However, for multiples of 7 or the number consist of 7, you print *.\n",
    "\n",
    "**Example Output:**\n",
    "```\n",
    "1\n",
    "2\n",
    "3\n",
    "4\n",
    "5\n",
    "6\n",
    "* (7 is a multiple of 7)\n",
    "8\n",
    "9\n",
    "10\n",
    "11\n",
    "12\n",
    "13\n",
    "* (14 is a multiple of 7)\n",
    "15\n",
    "16\n",
    "* (17 consist of the number 7)\n",
    "18\n",
    "...\n",
    "...\n",
    "```\n",
    "\n",
    "**hints:** How do you know if a integer N is a multiple of 7?"
   ]
  },
  {
   "cell_type": "markdown",
   "metadata": {},
   "source": [
    "## Challenge 1: Hollow Rectangle\n",
    "\n",
    "**Task:** Create a function that prints a hollow rectangle of asterisks. The size of the rectangle should be determined by user input.\n",
    "\n",
    "**Example Output for hollow_rectangle(width=6, length=4):**\n",
    "```\n",
    "******\n",
    "*    *\n",
    "*    *\n",
    "******\n",
    "```"
   ]
  },
  {
   "cell_type": "code",
   "execution_count": null,
   "metadata": {},
   "outputs": [],
   "source": []
  },
  {
   "cell_type": "markdown",
   "metadata": {},
   "source": [
    "## Challenge 2: Pyramid of Stars\n",
    "\n",
    "**Task:** Write a function that prints a pyramid of stars. The height of the pyramid should be determined by user input.\n",
    "\n",
    "**Example Output for pyramid_star(height=5):**\n",
    "```\n",
    "    *\n",
    "   ***\n",
    "  *****\n",
    " *******\n",
    "*********\n",
    "```"
   ]
  },
  {
   "cell_type": "code",
   "execution_count": null,
   "metadata": {},
   "outputs": [],
   "source": []
  },
  {
   "cell_type": "markdown",
   "metadata": {},
   "source": [
    "## Challenge 3: Number Triangle\n",
    "\n",
    "**Task:** Change the above function that prints a number triangle. The height of the triangle should be determined by user input.\n",
    "\n",
    "**Example Output for number_triangle(height=4):**\n",
    "```\n",
    "   1\n",
    "  121\n",
    " 12321\n",
    "1234321\n",
    "```"
   ]
  },
  {
   "cell_type": "code",
   "execution_count": null,
   "metadata": {},
   "outputs": [],
   "source": []
  },
  {
   "cell_type": "markdown",
   "metadata": {},
   "source": [
    "## Challenge 4: Diamond Shape\n",
    "\n",
    "**Task:** Write a program to print a diamond shape using asterisks. The size of the diamond should be determined by user input.\n",
    "\n",
    "**Example Output for size 5:**\n",
    "```\n",
    "    *\n",
    "   ***\n",
    "  *****\n",
    " *******\n",
    "*********\n",
    " *******\n",
    "  *****\n",
    "   ***\n",
    "    *\n",
    "```"
   ]
  },
  {
   "cell_type": "code",
   "execution_count": null,
   "metadata": {},
   "outputs": [],
   "source": []
  },
  {
   "cell_type": "markdown",
   "metadata": {},
   "source": [
    "## Challenge 5: Chessboard Pattern\n",
    "\n",
    "**Task**: Create a function that prints a chessboard pattern of asterisks and spaces. The size of the chessboard should be determined by user input.\n",
    "\n",
    "**Example Output for chessboard(length=8, width=8):**\n",
    "```\n",
    "* * * * *\n",
    " * * * * *\n",
    "* * * * *\n",
    " * * * * *\n",
    "* * * * *\n",
    " * * * * *\n",
    "* * * * *\n",
    " * * * * *\n",
    "```"
   ]
  },
  {
   "cell_type": "markdown",
   "metadata": {},
   "source": [
    "# Congratulations! Your done! On to more programming!"
   ]
  }
 ],
 "metadata": {
  "kernelspec": {
   "display_name": "Python 3",
   "language": "python",
   "name": "python3"
  },
  "language_info": {
   "codemirror_mode": {
    "name": "ipython",
    "version": 3
   },
   "file_extension": ".py",
   "mimetype": "text/x-python",
   "name": "python",
   "nbconvert_exporter": "python",
   "pygments_lexer": "ipython3",
   "version": "3.8.20"
  }
 },
 "nbformat": 4,
 "nbformat_minor": 4
}
