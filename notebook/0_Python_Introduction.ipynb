{
 "cells": [
  {
   "cell_type": "markdown",
   "metadata": {
    "slideshow": {
     "slide_type": "slide"
    }
   },
   "source": [
    "# Python 101\n",
    "* To execute a cell, click in it and then type [shift] + [enter] or pressing the ▶ button in the toolbar above\n",
    "* To insert a new cell, press [Esc] + [B] to insert a new cell below your current cell <br> or [Esc] + [A] for that above yout current cell\n",
    "* If you are stuck, use ◼ in the toolbar to stop! Or press [Esc], [I], [I] (in sequence, separately)\n",
    "* Press [TAB] to auto-complete Python code\n",
    "* If you need help, try\n",
    "```python\n",
    "help()\n",
    "```\n",
    "* Ask questions to the voluneers 😎"
   ]
  },
  {
   "cell_type": "code",
   "execution_count": null,
   "metadata": {},
   "outputs": [],
   "source": [
    "# Try to run this cell\n",
    "print(\"Hello World\")\n",
    "1+1"
   ]
  },
  {
   "cell_type": "markdown",
   "metadata": {},
   "source": [
    "## What is programming\n",
    "\n",
    "We use programming to give commands to do specific tasks. It is a very powerful tool. \n",
    "\n",
    "You should have learn about basic programming from this [Game](https://compute-it.toxicode.fr/?hour-of-code)"
   ]
  },
  {
   "cell_type": "markdown",
   "metadata": {},
   "source": [
    "## Data Type\n",
    "\n",
    "Python have these basic data type\n",
    "- int (e.g. `1`)\n",
    "- float (e.g. `1.5`)\n",
    "- str (e.g. `'word'`, `'This is a sentence!'`)\n",
    "- bool (`True`, `False`)\n",
    "- list (e.g. `[1, 2, 3]` is a collection of 3 integer)\n",
    "- tuple (e.g. `(1, 2, 3)` is a collection of 3 integer) <- Tuple will not be covered in today lesson\n",
    "- `None` (Meaning empty) <- None will not be covered in today lesson"
   ]
  },
  {
   "cell_type": "markdown",
   "metadata": {},
   "source": [
    "### Integer and float \n",
    "\n",
    "They are *numeric* data.\n",
    "\n",
    "Example:  \n",
    "- `1` is integer\n",
    "- `1.` is float\n",
    "- `0.5` is float\n",
    "- `1/2` result in `0.5`, is also float\n",
    "\n",
    "You can do calculation by this operators\n",
    "- +\n",
    "- -\n",
    "- *\n",
    "- /\n",
    "- ** (power)"
   ]
  },
  {
   "cell_type": "markdown",
   "metadata": {},
   "source": [
    "### Task 0 - Basic calculation\n",
    "\n",
    "Use python to do these calculations\n",
    "\n",
    "*BTW, Python counts from 0 instead of 1 (you will know why)*"
   ]
  },
  {
   "cell_type": "markdown",
   "metadata": {},
   "source": [
    "What is the perimeter of a Square with length 5 cm?\n",
    "\n",
    "Your Answer:"
   ]
  },
  {
   "cell_type": "code",
   "execution_count": null,
   "metadata": {},
   "outputs": [],
   "source": [
    "# Your answer here\n"
   ]
  },
  {
   "cell_type": "markdown",
   "metadata": {},
   "source": [
    "What is the area of a circle with the radius of 11.3 cm?\n",
    "\n",
    "Hints: you can use this for pi\n",
    "``` Python\n",
    "import math\n",
    "math.pi\n",
    "```\n",
    "Your Answer:"
   ]
  },
  {
   "cell_type": "code",
   "execution_count": null,
   "metadata": {},
   "outputs": [],
   "source": [
    "# Your answer here\n"
   ]
  },
  {
   "cell_type": "markdown",
   "metadata": {},
   "source": [
    "### String\n",
    "\n",
    "String is text. They are enclosed by single-quotes `'` or double-quotes `\"`. both quotes are the same, you can choose to use either one. (but dont mix them)\n",
    "\n",
    "\n",
    "Example:\n",
    "- `\"s\"`\n",
    "- `'s'`\n",
    "- `\"This is a long long long long long str\"` (They can be very long. No limit in the length, the only limit is your computer memory)\n",
    "- `\"str 也可以有中文\"`\n",
    "\n",
    "**adding str**\n",
    "\n",
    "You can *add* 2 str by using `+`\n",
    "```Python\n",
    "\"Hi, \" + 'how are you?' # output is \"Hi, how are you\"\n",
    "```\n",
    "\n",
    "Or even more str\n",
    "```Python\n",
    "\"Adding \" + \"more than\" + \" 2 str\" + \" together\" # Adding more than 2 str together.\n",
    "```\n",
    "\n",
    "**len**\n",
    "\n",
    "You can count how many character is in the str by using `len()`\n",
    "```Python\n",
    "len(\"this str has N characters\") # output is 25\n",
    "```\n",
    "\n",
    "There exist empty str `\"\"`\n",
    "```Python\n",
    "len(\"\") # output is 0\n",
    "```\n",
    "\n",
    "**convert str to number**\n",
    "\n",
    "If the str is a number, i.e. \"3.14\", you can convert it to float by using `float()` or `int()`\n",
    "```Python\n",
    "float(\"3.14\") # output is 3.14\n",
    "```\n",
    "\n",
    "**convert number to str**\n",
    "\n",
    "You can convert any number to str by `str()`\n",
    "```Python\n",
    "\"Now you can add number to a str: \" + str(2) + \" and \" + str(2.0) # \"Now you can add number to a str: 2 and 2.0\"\n",
    "```\n",
    "\n",
    "**input from keyboard**\n",
    "\n",
    "Programming can not be just coding all data in the programming. <br>You can input data with your keyboard by `input()`\n",
    "```Python\n",
    "input(\"What is your age?\")\n",
    "```"
   ]
  },
  {
   "cell_type": "markdown",
   "metadata": {},
   "source": [
    "### Task 1 - str Manipulation"
   ]
  },
  {
   "cell_type": "markdown",
   "metadata": {},
   "source": [
    "Write a code to output the length of the str from a input\n",
    "\n",
    "1. get a string from a input\n",
    "2. get the length of the string\n",
    "3. output the len of the string\n",
    "Your Answer:"
   ]
  },
  {
   "cell_type": "code",
   "execution_count": null,
   "metadata": {},
   "outputs": [],
   "source": [
    "# Your answer here\n"
   ]
  },
  {
   "cell_type": "markdown",
   "metadata": {},
   "source": [
    "Write code to\n",
    "1. get input of your year of birth\n",
    "2. calculate your age\n",
    "\n",
    "Your Answer:"
   ]
  },
  {
   "cell_type": "code",
   "execution_count": null,
   "metadata": {},
   "outputs": [],
   "source": [
    "# Your answer here\n",
    "2025 - # get input of your year of birth"
   ]
  },
  {
   "cell_type": "markdown",
   "metadata": {},
   "source": [
    "### Bool\n",
    "\n",
    "Boolean have only two value: `True` or `False`\n",
    "\n",
    "this is usually use to do comparison (either numerical or str comparison)\n",
    "\n",
    "**comparison operators**\n",
    "\n",
    "| == | != | < | > | <= | >= |\n",
    "|----|----|----|--|----|----|\n",
    "| equals | not equals | less than | greater than | less than or equal to | greater than or equal to |\n",
    "\n",
    "**numerical comparison**\n",
    "\n",
    "We only care about the value of the numbers, data type (int, float) is not important :\n",
    "```Python\n",
    "1.0 == 1  # True\n",
    "1.0 > 1   # False\n",
    "-5 <= 100 # True\n",
    "```\n",
    "**str comparison**\n",
    "\n",
    "data type is also important\n",
    "```Python\n",
    "1.0 == \"1\"     # False\n",
    "\"Abc\" == 'Abc' # True\n",
    "'A' != 'a'     # True \n",
    "```\n",
    "\n",
    "It does comparison character-by-character, untill there is a conclusion\n",
    "\n",
    "```Python\n",
    "\"ABCdefghijk\" == \"ABCxef\"\n",
    "```\n",
    "- this will first compare `\"A\" == \"A\"` -> no conclusion\n",
    "- then \"B\" == \"B\" -> no conclusion\n",
    "- then \"C\" == \"C\" -> no conclusion\n",
    "- then \"d\" == \"x\" -> not equal\n",
    "- so this return a `False`\n",
    "\n",
    "so some numerical comparison but be wrong if you use str to represent numbers\n",
    "\n",
    "```Python\n",
    "200 > 3     # True\n",
    "\"200\" > \"3\" # False\n",
    "\"200\" > 3   # You cannot use > or < to compare str and numbers\n",
    "```\n",
    "\n",
    "**And, Or, Not**\n",
    "\n",
    "You can combine multiple compare statement with `and`, `or`, `not`\n",
    "\n",
    "```Python\n",
    "not True  # False\n",
    "\"Abc\" > \"abc\" or 5 > 2  # False or True -> True\n",
    "\"Abc\" > \"abc\" and 5 > 2 # False and True -> False\n",
    "```"
   ]
  },
  {
   "cell_type": "markdown",
   "metadata": {},
   "source": [
    "**Question**: Why \"Abc\" < \"abc\" ?"
   ]
  },
  {
   "cell_type": "markdown",
   "metadata": {},
   "source": [
    "### Task 2 - comparison"
   ]
  },
  {
   "cell_type": "markdown",
   "metadata": {},
   "source": [
    "I have a wooden stick of 25m. Which method will make me have the larger area? (Use Python to compare)\n",
    "1. build a squre (each side have 25/4 meters)\n",
    "2. build a recentagle (5.5m, 5.5m, 7m, 7m)\n",
    "\n",
    "Your Answer:"
   ]
  },
  {
   "cell_type": "code",
   "execution_count": null,
   "metadata": {},
   "outputs": [],
   "source": [
    "# Your answer here\n"
   ]
  },
  {
   "cell_type": "markdown",
   "metadata": {},
   "source": [
    "# Python 102\n",
    "\n",
    "Congratulations on finishing the Python 101. Lets move on to variable"
   ]
  },
  {
   "cell_type": "markdown",
   "metadata": {},
   "source": [
    "## Variable\n",
    "\n",
    "A variable is has a name and it can stores any value.\n",
    "A variable's value can be modified later.\n",
    "```Python\n",
    "pi = 3.14  # this create a new variable `pi` with the value of 3.14\n",
    "pi = 3.1415926535 # you can modify it at anytime to any value\n",
    "```\n",
    "\n",
    "Notice that variable names are not out in quotation marks, hence welcome_message instead of \"welcome_message\".  We only need quotation marks for strings that are assigned to the variable.\n",
    "\n",
    "Variable names must not have any spaces or hyphen, you can use underscope `_` for variables. "
   ]
  },
  {
   "cell_type": "markdown",
   "metadata": {},
   "source": [
    "### Task 3 - use variable to create a message with multiple information\n",
    "\n",
    "Follow the steps below to write a birthday card"
   ]
  },
  {
   "cell_type": "markdown",
   "metadata": {},
   "source": [
    "#### Using Text to print the heading of your birthday card!\n",
    "\n",
    "You can put your invitation message in a variable and then print your message.  This helps you to change the message easily later.  \n",
    "Let's name your variable welcome_message. "
   ]
  },
  {
   "cell_type": "markdown",
   "metadata": {},
   "source": [
    "Example:"
   ]
  },
  {
   "cell_type": "code",
   "execution_count": null,
   "metadata": {},
   "outputs": [],
   "source": [
    "# Example\n",
    "welcome_message = \"Hello! I'm very excited to invite you to my birthday party!\"\n",
    "print(welcome_message)"
   ]
  },
  {
   "cell_type": "markdown",
   "metadata": {},
   "source": [
    "You can modify the variable by re-assign values to it. Try to print something else"
   ]
  },
  {
   "cell_type": "markdown",
   "metadata": {},
   "source": [
    "#### Task 3.1 - Try to modify the message and print it\n",
    "\n",
    "Modify the message to `Hi, you are invited to my birthday party`\n",
    "\n",
    "Your answer:"
   ]
  },
  {
   "cell_type": "code",
   "execution_count": null,
   "metadata": {},
   "outputs": [],
   "source": [
    "# Your answer here\n",
    "welcome_message = ??? # Your message here  \n",
    "print(welcome_message)"
   ]
  },
  {
   "cell_type": "markdown",
   "metadata": {},
   "source": [
    "#### Variables - integer\n",
    "Just like variables can be equal to (i.e. assigned to) a string, variables can be assigned to a number as well.  Numbers are called integer, just like text is called string\n",
    "\n",
    "Example:"
   ]
  },
  {
   "cell_type": "code",
   "execution_count": null,
   "metadata": {},
   "outputs": [],
   "source": [
    "# Example\n",
    "age = 25\n",
    "print(age)"
   ]
  },
  {
   "cell_type": "markdown",
   "metadata": {},
   "source": [
    "#### Task 3.2 - Try to modify it to your age\n",
    "\n",
    "Your Answer:"
   ]
  },
  {
   "cell_type": "code",
   "execution_count": null,
   "metadata": {
    "scrolled": true
   },
   "outputs": [],
   "source": [
    "# Your answer here\n",
    "age = # your age here\n",
    "print(age)"
   ]
  },
  {
   "cell_type": "markdown",
   "metadata": {},
   "source": [
    "#### Put all these strings and integers together in the welcome message\n",
    "\n",
    "To print different strings and variables in one go, you can simply add them up by using +"
   ]
  },
  {
   "cell_type": "code",
   "execution_count": null,
   "metadata": {
    "scrolled": true
   },
   "outputs": [],
   "source": [
    "# Example\n",
    "guest_name = \"Joyce\"\n",
    "my_name = \"Connie\"\n",
    "my_age = 12\n",
    "print( \"Hello \" + guest_name + \", You are invited to \"+ my_name + \"'s \" + str(my_age) + \"th Birthday Party!\")"
   ]
  },
  {
   "cell_type": "markdown",
   "metadata": {},
   "source": [
    "#### Task 3.3 - Try to modify the variables and build the invitation message with different information\n",
    "\n",
    "Your Answer:"
   ]
  },
  {
   "cell_type": "code",
   "execution_count": null,
   "metadata": {},
   "outputs": [],
   "source": [
    "# Your answer here\n",
    "guest_name = \n",
    "my_name = \n",
    "my_age = "
   ]
  },
  {
   "cell_type": "code",
   "execution_count": null,
   "metadata": {},
   "outputs": [],
   "source": [
    "print( \"Hello \" + guest_name + \" You are invited to \"+ my_name + \"'s \" + str(my_age) + \"th Birthday Party!\")"
   ]
  },
  {
   "cell_type": "markdown",
   "metadata": {},
   "source": [
    "#### Try changing the guest_name (on the above and run) and print again"
   ]
  },
  {
   "cell_type": "markdown",
   "metadata": {},
   "source": [
    "#### You might see a problem here. When my_age is 22, there is a grammatical mistake!\n",
    "\n",
    "```Hello Joyce, You are invited to Connie's 22th Birthday Party!``` is grammatically incorrect\n",
    "\n",
    "How to make it correct?"
   ]
  },
  {
   "cell_type": "markdown",
   "metadata": {},
   "source": [
    "## Recall: What is Boolean?\n",
    "Boolean is either ```True``` or ```False```.  It is usually seen when we do comparison. Remember the If condition we just learnt, that actually just uses a boolean condition:  If TRUE, do something, Else do something different "
   ]
  },
  {
   "cell_type": "code",
   "execution_count": null,
   "metadata": {},
   "outputs": [],
   "source": [
    "# Example\n",
    "1 + 1 == 2 # 1+1 is equal to 2?\n",
    "1 + 1 != 2 # Guess if this is returning true or false?"
   ]
  },
  {
   "cell_type": "code",
   "execution_count": null,
   "metadata": {},
   "outputs": [],
   "source": [
    "# Example\n",
    "age = 20 \n",
    "age == 20 # Guess if this is returning true or false?"
   ]
  },
  {
   "cell_type": "code",
   "execution_count": null,
   "metadata": {},
   "outputs": [],
   "source": [
    "# Example\n",
    "age > 20 # Guess if this is returning true or false"
   ]
  },
  {
   "cell_type": "code",
   "execution_count": null,
   "metadata": {},
   "outputs": [],
   "source": [
    "# Example\n",
    "friends_age = 18 \n",
    "my_age = 10 # What's your age?\n",
    "my_age > friends_age # Guess if this is returning true or false"
   ]
  },
  {
   "cell_type": "markdown",
   "metadata": {},
   "source": [
    "We can save boolean to variables too!"
   ]
  },
  {
   "cell_type": "code",
   "execution_count": null,
   "metadata": {},
   "outputs": [],
   "source": [
    "# Example\n",
    "raspberry_pi_is_fun = True\n",
    "raspberry_pi_is_expensive = False"
   ]
  },
  {
   "cell_type": "code",
   "execution_count": null,
   "metadata": {},
   "outputs": [],
   "source": [
    "# Example\n",
    "friends_age = 18 \n",
    "my_age = 10 # What's your age?\n",
    "is_friend_older_than_me = friends_age > my_age\n",
    "print(is_friend_older_than_me)"
   ]
  },
  {
   "cell_type": "markdown",
   "metadata": {},
   "source": [
    "## If-Then-Else (branching statement)\n",
    "\n",
    "You can use if-then-else to control which code to execute base on different conditions. Now bool is very usful.\n",
    "\n",
    "The syntax is \n",
    "```\n",
    "if (CONDITION):\n",
    "    (do something if the condition is True)\n",
    "```\n",
    "\n",
    "OR \n",
    "\n",
    "```\n",
    "if (CONDITION):\n",
    "    (do something if the condition is True)\n",
    "else:\n",
    "    (do something if the condition is False)\n",
    "```"
   ]
  },
  {
   "cell_type": "markdown",
   "metadata": {},
   "source": [
    "Example"
   ]
  },
  {
   "cell_type": "code",
   "execution_count": null,
   "metadata": {},
   "outputs": [],
   "source": [
    "# Example\n",
    "temperature = 25 # Try to modify the value here \n",
    "\n",
    "if temperature > 30:\n",
    "    message = \"It's so hot! I want to get an icecream!!!\"\n",
    "else:\n",
    "    message = \"Getting Cooler! I want hot chocolate!\"\n",
    "\n",
    "print(message)  # Guess what do you expect to see here?"
   ]
  },
  {
   "cell_type": "markdown",
   "metadata": {},
   "source": [
    "### Task 4 Try changing different temperature!\n",
    "\n",
    "What is the different output when you change the temperature? try to modify the above and re-run to get a different output"
   ]
  },
  {
   "cell_type": "markdown",
   "metadata": {},
   "source": [
    "### Task 5: Modify the birthday card to make the it grammatical correct\n",
    "\n",
    "Modify the following code and fix the abbreviations\n",
    "- 1st\n",
    "- 2nd\n",
    "- 3rd\n",
    "- 4th, 5th, 6th,....\n",
    "\n",
    "Code: \n",
    "```Python\n",
    "guest_name = \n",
    "my_name = \n",
    "my_age = \n",
    "print( \"Hello \" + guest_name + \" You are invited to \"+ my_name + \"'s \" + str(my_age) + \"th Birthday Party!\")\n",
    "```\n",
    "\n",
    "Your Answer:"
   ]
  },
  {
   "cell_type": "code",
   "execution_count": null,
   "metadata": {},
   "outputs": [],
   "source": [
    "guest_name = \"Peter\"\n",
    "my_name = \"Jan\"\n",
    "my_age = 22 # modify here\n",
    "abbreviation = \"th\"\n",
    "# Your Answer here\n",
    "# if:\n",
    "# else:\n",
    "\n",
    "\n",
    "print( \"Hello \" + guest_name + \" You are invited to \"+ my_name + \"'s \" + str(my_age) + abbreviation + \" Birthday Party!\")"
   ]
  },
  {
   "cell_type": "markdown",
   "metadata": {},
   "source": [
    "## Function\n",
    "\n",
    "Functions are just pre-defined commands you tell the computer to do.  \n",
    "Like print (), str ()\n",
    "You can create your own commands, or functions too. \n",
    "But first you need to give them a name, so you can refer to them by their name when you need to use those commands. \n",
    "And then you need to tell them what all you want them to do each time you use them.\n",
    "\n",
    "Just like str() converts whatever you provide within the brakets to a string, i.e. text. \n",
    "Just like print() prints out whatever you put within the brakets when you use it\n",
    "\n",
    "Let's learn how your powerful functions can be defined"
   ]
  },
  {
   "cell_type": "markdown",
   "metadata": {},
   "source": [
    "Example"
   ]
  },
  {
   "cell_type": "code",
   "execution_count": null,
   "metadata": {},
   "outputs": [],
   "source": [
    "# Example\n",
    "def invitation():\n",
    "    print (\"Hello\")\n",
    "    print (\"You are invited to my Birthday party\")\n",
    "    print (\"Address: McDonald @Nathan Road, TST\")\n",
    "    print (\"Time: 3:30pm - 4:30pm\")"
   ]
  },
  {
   "cell_type": "markdown",
   "metadata": {},
   "source": [
    "The above defined the `function`\n",
    "\n",
    "Let's try using the `function`. \n",
    "Once you have defined the function, you can then use the function. (In programming words - to `call` the `function`)"
   ]
  },
  {
   "cell_type": "markdown",
   "metadata": {},
   "source": [
    "Example:"
   ]
  },
  {
   "cell_type": "code",
   "execution_count": null,
   "metadata": {},
   "outputs": [],
   "source": [
    "# Example\n",
    "invitation()"
   ]
  },
  {
   "cell_type": "markdown",
   "metadata": {},
   "source": [
    "### Task 6: try to build your invitation"
   ]
  },
  {
   "cell_type": "code",
   "execution_count": null,
   "metadata": {},
   "outputs": [],
   "source": [
    "def invitation():\n",
    "    # Your answer here\n",
    "    "
   ]
  },
  {
   "cell_type": "code",
   "execution_count": null,
   "metadata": {},
   "outputs": [],
   "source": [
    "invitation()"
   ]
  },
  {
   "cell_type": "markdown",
   "metadata": {},
   "source": [
    "### Passing arguments to function\n",
    "\n",
    "We can give arguments to the function. The syntax of a function is \n",
    "\n",
    "```\n",
    "def function_name(argument1, argument2, .....)\n",
    "    your function executable here\n",
    "```\n",
    "\n",
    "Let's be more polite and include your guest's name."
   ]
  },
  {
   "cell_type": "markdown",
   "metadata": {},
   "source": [
    "Example"
   ]
  },
  {
   "cell_type": "code",
   "execution_count": null,
   "metadata": {},
   "outputs": [],
   "source": [
    "# Example\n",
    "def invitation(name):\n",
    "    print (\"Hello \" + name)\n",
    "    print (\"You are invited to my Birthday party\")\n",
    "    print (\"Address: McDonald @Nathan Road, TST\")\n",
    "    print (\"Time: 3:30pm - 4:30pm\")"
   ]
  },
  {
   "cell_type": "code",
   "execution_count": null,
   "metadata": {},
   "outputs": [],
   "source": [
    "# Example\n",
    "invitation(\"Jane\")"
   ]
  },
  {
   "cell_type": "markdown",
   "metadata": {},
   "source": [
    "We can keep calling the function to all your guests and prepare the welcome message"
   ]
  },
  {
   "cell_type": "code",
   "execution_count": null,
   "metadata": {
    "scrolled": true
   },
   "outputs": [],
   "source": [
    "# Example\n",
    "invitation(\"Jane\")\n",
    "invitation(\"Katie\")\n",
    "invitation(\"Vincent\")"
   ]
  },
  {
   "cell_type": "markdown",
   "metadata": {},
   "source": [
    "### Task 7 Build invitation function\n",
    "\n",
    "Recall `Task 5` where we build a invitation by assigning these three variable?\n",
    "```\n",
    "guest_name = \n",
    "my_name = \n",
    "my_age = \n",
    "```\n",
    "\n",
    "Can you build a function that take these three arguments are print the invitation?\n",
    "\n",
    "Your Answer:"
   ]
  },
  {
   "cell_type": "code",
   "execution_count": null,
   "metadata": {},
   "outputs": [],
   "source": [
    "# Your answer here\n"
   ]
  },
  {
   "cell_type": "code",
   "execution_count": null,
   "metadata": {},
   "outputs": [],
   "source": [
    "# run your function here\n",
    "invitation(\"Jane\", \"Peter\", 10)\n",
    "invitation(\"Katie\", \"Joe\", 12)\n",
    "invitation(\"Vincent\", \"Jack\", 22)"
   ]
  },
  {
   "cell_type": "markdown",
   "metadata": {},
   "source": [
    "### Return value to function\n",
    "\n",
    "In the function we can also return value instead of just printing. Syntax is use the `return`\n",
    "\n",
    "```Python\n",
    "def area_triangle(base, height):\n",
    "    return 1/2 * base * height\n",
    "\n",
    "def area_rectangle(length, width):\n",
    "    return length * width\n",
    "```\n",
    "\n",
    "These two function return the area given two argument. \n",
    "Try these function calls"
   ]
  },
  {
   "cell_type": "code",
   "execution_count": null,
   "metadata": {},
   "outputs": [],
   "source": [
    "# Example\n",
    "def area_triangle(base, height):\n",
    "    return 1/2 * base * height\n",
    "\n",
    "def area_rectangle(length, width):\n",
    "    return length * width"
   ]
  },
  {
   "cell_type": "markdown",
   "metadata": {},
   "source": [
    "### Task 8 - Call the functions and get the area"
   ]
  },
  {
   "cell_type": "code",
   "execution_count": null,
   "metadata": {},
   "outputs": [],
   "source": [
    "# Your answer here"
   ]
  },
  {
   "cell_type": "markdown",
   "metadata": {},
   "source": [
    "## Loops\n",
    "\n",
    "Recall the game: You have learnt `repeat(4) {}` and `while(x>1) {}`.\n",
    "\n",
    "We call them `for-loop` and `while-loop`\n",
    "\n",
    "```Python\n",
    "for i in range(5):\n",
    "    print(i)\n",
    "```"
   ]
  },
  {
   "cell_type": "code",
   "execution_count": null,
   "metadata": {},
   "outputs": [],
   "source": [
    "# Example \n",
    "for i in range(5):\n",
    "    print(i)"
   ]
  },
  {
   "cell_type": "code",
   "execution_count": null,
   "metadata": {},
   "outputs": [],
   "source": [
    "# Example\n",
    "x = 0\n",
    "while x < 10:\n",
    "    print(x)\n",
    "    x = 2 * x + 1"
   ]
  },
  {
   "cell_type": "markdown",
   "metadata": {},
   "source": [
    "### List\n",
    "\n",
    "list is a collection of element. It can be a mix of datatype. you can loop through the collection\n",
    "\n",
    "Example: \n",
    "```Python\n",
    "[1, 2, 3, 3.5]\n",
    "[\"A List of mixed datatype\", 1, -0.5]\n",
    "[]  # Empty list\n",
    "```"
   ]
  },
  {
   "cell_type": "markdown",
   "metadata": {},
   "source": [
    "### Task 8 - Loop through elements\n",
    "\n",
    "Create a list of messages and print them\n",
    "\n",
    "Output: \n",
    "```\n",
    "Hi.\n",
    "This is my\n",
    "day 0\n",
    "in Python.\n",
    "```\n",
    "\n",
    "Your Answer:"
   ]
  },
  {
   "cell_type": "code",
   "execution_count": null,
   "metadata": {},
   "outputs": [],
   "source": [
    "messages = [] # Create you message here\n",
    "\n",
    "# Write you loop here"
   ]
  },
  {
   "cell_type": "markdown",
   "metadata": {},
   "source": [
    "### Task 9 - Stop at 0\n",
    "\n",
    "Create a loop that ask user to input text, count how many data have been inputted before you input 0\n",
    "\n",
    "Your Answer:"
   ]
  },
  {
   "cell_type": "code",
   "execution_count": null,
   "metadata": {},
   "outputs": [],
   "source": [
    "# Your answer here:\n"
   ]
  },
  {
   "cell_type": "markdown",
   "metadata": {},
   "source": [
    "# Challenges\n",
    "\n",
    "Congratulation on finishing the tutorial :) \n",
    "\n",
    "Now there are some challenges for you!!! Have Fun!"
   ]
  },
  {
   "cell_type": "markdown",
   "metadata": {},
   "source": [
    "## Challenge 0: Pak7 (拍7)\n",
    "\n",
    "**Task:** 拍7 is a common game. You count loud from 1-100 (or even more). But if the number is a multi of 7 or consist of the letter `7`. You dont count the number but instead you clap. \n",
    "\n",
    "Create a program that prints numbers from 1 to N. However, for multiples of 7 or the number consist of 7, you print *.\n",
    "\n",
    "**Example Output:**\n",
    "```\n",
    "1\n",
    "2\n",
    "3\n",
    "4\n",
    "5\n",
    "6\n",
    "* (7 is a multiple of 7)\n",
    "8\n",
    "9\n",
    "10\n",
    "11\n",
    "12\n",
    "13\n",
    "* (14 is a multiple of 7)\n",
    "15\n",
    "16\n",
    "* (17 consist of the number 7)\n",
    "18\n",
    "...\n",
    "...\n",
    "```\n",
    "\n",
    "**hints:** How do you know if a integer N is a multiple of 7?"
   ]
  },
  {
   "cell_type": "markdown",
   "metadata": {},
   "source": [
    "## Challenge 1: Hollow Rectangle\n",
    "\n",
    "**Task:** Create a function that prints a hollow rectangle of asterisks. The size of the rectangle should be determined by user input.\n",
    "\n",
    "**Example Output for hollow_rectangle(width=6, length=4):**\n",
    "```\n",
    "******\n",
    "*    *\n",
    "*    *\n",
    "******\n",
    "```"
   ]
  },
  {
   "cell_type": "code",
   "execution_count": null,
   "metadata": {},
   "outputs": [],
   "source": []
  },
  {
   "cell_type": "markdown",
   "metadata": {},
   "source": [
    "## Challenge 2: Pyramid of Stars\n",
    "\n",
    "**Task:** Write a function that prints a pyramid of stars. The height of the pyramid should be determined by user input.\n",
    "\n",
    "**Example Output for pyramid_star(height=5):**\n",
    "```\n",
    "    *\n",
    "   ***\n",
    "  *****\n",
    " *******\n",
    "*********\n",
    "```"
   ]
  },
  {
   "cell_type": "code",
   "execution_count": null,
   "metadata": {},
   "outputs": [],
   "source": []
  },
  {
   "cell_type": "markdown",
   "metadata": {},
   "source": [
    "## Challenge 3: Number Triangle\n",
    "\n",
    "**Task:** Change the above function that prints a number triangle. The height of the triangle should be determined by user input.\n",
    "\n",
    "**Example Output for number_triangle(height=4):**\n",
    "```\n",
    "   1\n",
    "  121\n",
    " 12321\n",
    "1234321\n",
    "```"
   ]
  },
  {
   "cell_type": "code",
   "execution_count": null,
   "metadata": {},
   "outputs": [],
   "source": []
  },
  {
   "cell_type": "markdown",
   "metadata": {},
   "source": [
    "## Challenge 4: Diamond Shape\n",
    "\n",
    "**Task:** Write a program to print a diamond shape using asterisks. The size of the diamond should be determined by user input.\n",
    "\n",
    "**Example Output for size 5:**\n",
    "```\n",
    "    *\n",
    "   ***\n",
    "  *****\n",
    " *******\n",
    "*********\n",
    " *******\n",
    "  *****\n",
    "   ***\n",
    "    *\n",
    "```"
   ]
  },
  {
   "cell_type": "code",
   "execution_count": null,
   "metadata": {},
   "outputs": [],
   "source": []
  },
  {
   "cell_type": "markdown",
   "metadata": {},
   "source": [
    "## Challenge 5: Chessboard Pattern\n",
    "\n",
    "**Task**: Create a function that prints a chessboard pattern of asterisks and spaces. The size of the chessboard should be determined by user input.\n",
    "\n",
    "**Example Output for chessboard(length=8, width=8):**\n",
    "```\n",
    "* * * * *\n",
    " * * * * *\n",
    "* * * * *\n",
    " * * * * *\n",
    "* * * * *\n",
    " * * * * *\n",
    "* * * * *\n",
    " * * * * *\n",
    "```"
   ]
  },
  {
   "cell_type": "markdown",
   "metadata": {},
   "source": [
    "# Congratulations! Your done! On to more programming!"
   ]
  }
 ],
 "metadata": {
  "kernelspec": {
   "display_name": "Python 3",
   "language": "python",
   "name": "python3"
  },
  "language_info": {
   "codemirror_mode": {
    "name": "ipython",
    "version": 3
   },
   "file_extension": ".py",
   "mimetype": "text/x-python",
   "name": "python",
   "nbconvert_exporter": "python",
   "pygments_lexer": "ipython3",
   "version": "3.8.20"
  }
 },
 "nbformat": 4,
 "nbformat_minor": 4
}
