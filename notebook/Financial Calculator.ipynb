{
 "cells": [
  {
   "cell_type": "markdown",
   "metadata": {
    "slideshow": {
     "slide_type": "slide"
    }
   },
   "source": [
    "# Financial Calculator\n",
    "## A few tips\n",
    "* To execute a cell, click in it and then type [shift] + [enter] or pressing the ▶ button in the toolbar above\n",
    "* If you are stuck, use ◼ in the toolbar to stop! Or press [I],[I]\n",
    "* Press [TAB] to auto-complete Python code\n",
    "* If you need help, just reach out to any of us!"
   ]
  },
  {
   "cell_type": "markdown",
   "metadata": {},
   "source": [
    "## Launching a python program!\n",
    "\n",
    "What we have experienced in the Introduction module allow us to run python code on the fly.  In reality, python programs are ran standalone. Let's try running a python program in that way!\n",
    "\n",
    "Running the script below will launch the actual program!"
   ]
  },
  {
   "cell_type": "code",
   "execution_count": 2,
   "metadata": {
    "scrolled": true,
    "slideshow": {
     "slide_type": "subslide"
    }
   },
   "outputs": [],
   "source": [
    "%%bash\n",
    "source venv/bin/activate\n",
    "\n",
    "python main.py > /dev/null 2>&1"
   ]
  },
  {
   "cell_type": "markdown",
   "metadata": {},
   "source": [
    "##### You should be able to see the screen as below\n",
    "\n",
    "![Start of the financial calculator program](images/financial_cal_start.png)"
   ]
  },
  {
   "cell_type": "markdown",
   "metadata": {},
   "source": [
    "## Try it out!\n",
    "\n",
    "### Let's select the Freedom Fund\n",
    "#### Imagine you put HKD1000 of your savings as initial deposit, and contribute HKD150 monthly into the fund.  With the investment time of 10 years, how much will you get?"
   ]
  },
  {
   "cell_type": "markdown",
   "metadata": {},
   "source": [
    "That's right, HKD 188,345.93"
   ]
  },
  {
   "cell_type": "markdown",
   "metadata": {},
   "source": [
    "## Question!\n",
    "### If you want to have HKD1,000,000 or above, what's the minimum number of years you will need to invest?\n",
    "\n",
    "#### 5 additional years, where the future balance will become HKD1,080,778.8!\n",
    "#### You make the animated heart appears!\n",
    "![Heart](web/assets/heartbeat.gif)"
   ]
  },
  {
   "cell_type": "markdown",
   "metadata": {},
   "source": [
    "## Question!\n",
    "\n",
    "### What parameters can you change to make the animated heart disappears\n",
    "\n",
    "1) Select another fund with higher or lower rate of return? \n",
    "<br> 2) Place more or less initial deposits?\n",
    "<br> 3) Place more or less contributions?\n",
    "<br> 4) Do monthly or annually contributions instead?\n",
    "<br> 5) Decrease or increase your investment time span?\n",
    "<br> 6) Have daily, monthly or annually compund frequency instead?\n",
    "\n",
    "While it make take you a while to figure this out, a computer program can solve your problem quickly, try it out!"
   ]
  },
  {
   "cell_type": "markdown",
   "metadata": {},
   "source": [
    "## Challenge!\n",
    "\n",
    "### Are you able to add a new fund and change the interest rate?\n",
    "\n",
    "#### TIPS: Notice Line 35-39 below. \n",
    "\n",
    "Are you able to make some changes there in order to add your own named fund?\n",
    "\n",
    "\n",
    "After you made the edit, running the cell would save your changes. Then you can rerun the program again to see if it pick up your changes!"
   ]
  },
  {
   "cell_type": "code",
   "execution_count": 3,
   "metadata": {
    "scrolled": true
   },
   "outputs": [
    {
     "name": "stdout",
     "output_type": "stream",
     "text": [
      "Overwriting ./core/utils.py\n"
     ]
    }
   ],
   "source": [
    "%%writefile ./core/utils.py\n",
    "from __future__ import annotations\n",
    "from enum import Enum\n",
    "from typing import Optional\n",
    "\n",
    "\n",
    "class ActionType(Enum):\n",
    "    ADD = 'add'\n",
    "    SUBTRACT = 'sub'\n",
    "    SET = 'set'\n",
    "\n",
    "    @staticmethod\n",
    "    def value_from(name: str) -> Optional[ActionType]:\n",
    "        return next(filter(\n",
    "            lambda i: i.value == name,\n",
    "            (i for i in ActionType)\n",
    "        ))\n",
    "\n",
    "\n",
    "class Sprite(Enum):\n",
    "    BIRD = 'assets/bird.gif'\n",
    "    CAKE = 'assets/cake.gif'\n",
    "    ELEPHANT = 'assets/elephant.gif'\n",
    "    FISH = 'assets/fish.gif'\n",
    "    GAME = 'assets/game.gif'\n",
    "    HEARTBEAT = 'assets/heartbeat.gif'\n",
    "    PONY = 'assets/pony.gif'\n",
    "    SHEEP = 'assets/sheep.gif'\n",
    "    SNOW_FIGHT = 'assets/snow-fight.gif'\n",
    "    STARWARS = 'assets/starwars.gif'\n",
    "    NONE = ''\n",
    "\n",
    "\n",
    "class Fund(Enum):\n",
    "    HONG_KONG_ETF = ('Hong Kong ETF', 13.5)\n",
    "    FREEDOM_FUND = ('Freedom Fund', 35)\n",
    "    UNION_SP500_INDEX = ('Union SP500 Index Fund', 25)\n",
    "    YU_LENG_1000_ETF = ('Yu Leng 100 ETF', 15)\n",
    "    TANG_5000_ETF = ('Tang 5000 Trust ETF', 18)\n",
    "    Niki_8864_T=('Niki 8864 T', 27)\n",
    "\n",
    "    @property\n",
    "    def returns(self):\n",
    "        return self.value[1]\n",
    "\n",
    "    @property\n",
    "    def name(self):\n",
    "        return self.value[0]\n",
    "\n",
    "    @staticmethod\n",
    "    def value_from(name: str) -> Optional[Fund]:\n",
    "        return next(filter(\n",
    "            lambda i: i.name == name,\n",
    "            (i for i in Fund)\n",
    "        ))\n"
   ]
  },
  {
   "cell_type": "markdown",
   "metadata": {},
   "source": [
    "## Now that you have changed the code, lets rerun!\n",
    "### Close the previous application and run the code below (which is same as how we run it at the first time)"
   ]
  },
  {
   "cell_type": "code",
   "execution_count": 4,
   "metadata": {},
   "outputs": [],
   "source": [
    "%%bash\n",
    "source venv/bin/activate\n",
    "\n",
    "python main.py > /dev/null 2>&1"
   ]
  },
  {
   "cell_type": "markdown",
   "metadata": {},
   "source": [
    "## Another challenge!\n",
    "\n",
    "### Are you able to change the heartbeat animation to something else?\n",
    "\n",
    "####TIPS: Notice Line 10-18 below. \n",
    "\n",
    "Are you able to make some changes there in order to change the heartbeat animation to something other animation?  You might want to scroll up and refer to the last file to see what were the other animation available.\n",
    "\n",
    "After you made the edit, running the cell would save your changes. Then you can rerun the program again to see if it pick up your changes!\n"
   ]
  },
  {
   "cell_type": "code",
   "execution_count": 15,
   "metadata": {},
   "outputs": [
    {
     "name": "stdout",
     "output_type": "stream",
     "text": [
      "Overwriting ./core/calculator.py\n"
     ]
    }
   ],
   "source": [
    "%%writefile ./core/calculator.py\n",
    "from dataclasses import dataclass\n",
    "from datetime import datetime\n",
    "\n",
    "from core.utils import Fund, Sprite, ActionType\n",
    "\n",
    "import time\n",
    "import random\n",
    "import RPi.GPIO as GPIO\n",
    "\n",
    "@dataclass\n",
    "class Calculator:\n",
    "    initial_deposit: float = 0\n",
    "    contribution_amount: float = 0\n",
    "    investment_timespan: int = 0\n",
    "    fund: Fund = Fund.HONG_KONG_ETF\n",
    "    future_balance: float = 0\n",
    "    contribution_period: int = 12\n",
    "    compound_period: int = 12\n",
    "    sprite: Sprite = Sprite.HEARTBEAT\n",
    "    goal: float = 1000000\n",
    "\n",
    "        \n",
    "    def set_lights(self):\n",
    "        \"\"\"\n",
    "        Set the lights up!\n",
    "        \"\"\"\n",
    "        LED = 17\n",
    "        GPIO.setmode(GPIO.BCM)\n",
    "        GPIO.setup(LED, GPIO.OUT) \n",
    "\n",
    "        GPIO.output(LED, True)\n",
    "        time.sleep(10.0)\n",
    "\n",
    "        GPIO.cleanup() \n",
    "        return None\n",
    "    \n",
    "    def get_sprite(self):\n",
    "        \"\"\"\n",
    "        Used to retrieve the sprite displayed when target investment reached\n",
    "        \"\"\"\n",
    "        return self.sprite.value\n",
    "\n",
    "    def get_funds(self):\n",
    "        \"\"\"\n",
    "        Used to retrieve a list of available funds\n",
    "        :return:\n",
    "        \"\"\"\n",
    "        return [i.value for i in Fund]\n",
    "\n",
    "    def get_selected_fund(self):\n",
    "        \"\"\"\n",
    "        Retrieves the current fund selected by the user\n",
    "        \"\"\"\n",
    "        return {\"name\": self.fund.name, \"returns\": self.fund.returns}\n",
    "\n",
    "    def get_amount(self, field: str):\n",
    "        \"\"\"\n",
    "        Used to retrieve values from the calculator. E.g. initial deposit\n",
    "        :param field: name of the field\n",
    "        :return:\n",
    "        \"\"\"\n",
    "        return getattr(self, field)\n",
    "\n",
    "    def change_fund(self, name: str):\n",
    "        \"\"\"\n",
    "        Change the fund selected for the calculation\n",
    "        :param name: Name of the fund\n",
    "        :return:\n",
    "        \"\"\"\n",
    "        self.fund = Fund.value_from(name)\n",
    "\n",
    "    def change_amount(self, field: str, value, action_string: str):\n",
    "        \"\"\"\n",
    "        Used to change a property on the calculator. E.g. initial deposit, contribution amount e.t.c\n",
    "        :param field: calculator property\n",
    "        :param value: Any\n",
    "        :param action_string: ADD | SUBTRACT | SET\n",
    "        :return: the updated field value\n",
    "        \"\"\"\n",
    "        action = ActionType.value_from(action_string)\n",
    "        change = getattr(self, field)\n",
    "\n",
    "        if action == ActionType.ADD:\n",
    "            change += value\n",
    "        elif action == ActionType.SUBTRACT:\n",
    "            change -= value\n",
    "        elif action == ActionType.SET:\n",
    "            change = value\n",
    "\n",
    "        if change >= 0:\n",
    "            setattr(self, field, change)\n",
    "            return change\n",
    "        return getattr(self, field)\n",
    "\n",
    "    def calculate_future_values(self):\n",
    "        \"\"\"\n",
    "        Calculates the future value\n",
    "        \"\"\"\n",
    "        current_year = datetime.now().year\n",
    "        labels = [year for year in range(current_year, current_year + int(self.investment_timespan))]\n",
    "        principal_dataset = {\n",
    "            \"label\": 'Total Principal',\n",
    "            \"backgroundColor\": 'rgb(0, 123, 255)',\n",
    "            \"data\": []\n",
    "        }\n",
    "        earnings_dataset = {\n",
    "            \"label\": \"Total Earnings\",\n",
    "            \"backgroundColor\": 'rgb(23, 162, 184)',\n",
    "            \"data\": []\n",
    "        }\n",
    "\n",
    "        self.future_balance = 0\n",
    "\n",
    "        for time in range(1, self.investment_timespan + 1):\n",
    "            principal = self.initial_deposit + (self.contribution_amount * self.contribution_period * time)\n",
    "            earnings = 0\n",
    "            balance = principal\n",
    "            estimated_return = self.fund.returns / 100\n",
    "\n",
    "            if estimated_return:\n",
    "                gains = (1 + estimated_return / self.compound_period) ** (self.compound_period * time)\n",
    "                compound_earnings = self.initial_deposit * gains\n",
    "                contribution_earnings = self.contribution_amount * (gains - 1) / (estimated_return / self.contribution_period)\n",
    "                earnings = compound_earnings + contribution_earnings - principal\n",
    "                balance = compound_earnings + contribution_earnings\n",
    "\n",
    "            self.future_balance = balance\n",
    "            principal_dataset['data'].append(round(principal, 2))\n",
    "            earnings_dataset['data'].append(round(earnings, 2))\n",
    "\n",
    "        return {\n",
    "            \"labels\": labels,\n",
    "            \"datasets\": [principal_dataset, earnings_dataset],\n",
    "        }\n"
   ]
  },
  {
   "cell_type": "code",
   "execution_count": 16,
   "metadata": {
    "scrolled": false
   },
   "outputs": [],
   "source": [
    "%%bash\n",
    "source venv/bin/activate\n",
    "\n",
    "python main.py > /dev/null 2>&1"
   ]
  },
  {
   "cell_type": "markdown",
   "metadata": {},
   "source": [
    "## Big Challenge! \n",
    "If you have completed the electronics module, come back here for the big challenge!"
   ]
  },
  {
   "cell_type": "markdown",
   "metadata": {
    "scrolled": false
   },
   "source": [
    "### Apart from the heartbeat animation, can you cause the LED lights to blink?\n",
    "\n",
    "#### TIPS: Reuse the code you learnt in the electronics module!  Refer to line 24-36 and see if its something familiar!\n",
    "\n",
    "After you made the edit, running the cell would save your changes. Then you can rerun the program again to see if it pick up your changes!"
   ]
  },
  {
   "cell_type": "code",
   "execution_count": null,
   "metadata": {
    "scrolled": true
   },
   "outputs": [],
   "source": [
    "%%writefile ./core/calculator.py\n",
    "from dataclasses import dataclass\n",
    "from datetime import datetime\n",
    "\n",
    "from core.utils import Fund, Sprite, ActionType\n",
    "\n",
    "import time\n",
    "import random\n",
    "import RPi.GPIO as GPIO\n",
    "\n",
    "@dataclass\n",
    "class Calculator:\n",
    "    initial_deposit: float = 0\n",
    "    contribution_amount: float = 0\n",
    "    investment_timespan: int = 0\n",
    "    fund: Fund = Fund.HONG_KONG_ETF\n",
    "    future_balance: float = 0\n",
    "    contribution_period: int = 12\n",
    "    compound_period: int = 12\n",
    "    sprite: Sprite = Sprite.HEARTBEAT\n",
    "    goal: float = 1000000\n",
    "\n",
    "        \n",
    "    def set_lights(self):\n",
    "        \"\"\"\n",
    "        Set the lights up!\n",
    "        \"\"\"\n",
    "        #LED = 17\n",
    "        #GPIO.setmode(GPIO.BCM)\n",
    "        #GPIO.setup(LED, GPIO.OUT) \n",
    "\n",
    "        #GPIO.output(LED, True)\n",
    "        #time.sleep(10.0)\n",
    "\n",
    "        #GPIO.cleanup() \n",
    "        return None\n",
    "    \n",
    "    def get_sprite(self):\n",
    "        \"\"\"\n",
    "        Used to retrieve the sprite displayed when target investment reached\n",
    "        \"\"\"\n",
    "        return self.sprite.value\n",
    "\n",
    "    def get_funds(self):\n",
    "        \"\"\"\n",
    "        Used to retrieve a list of available funds\n",
    "        :return:\n",
    "        \"\"\"\n",
    "        return [i.value for i in Fund]\n",
    "\n",
    "    def get_selected_fund(self):\n",
    "        \"\"\"\n",
    "        Retrieves the current fund selected by the user\n",
    "        \"\"\"\n",
    "        return {\"name\": self.fund.name, \"returns\": self.fund.returns}\n",
    "\n",
    "    def get_amount(self, field: str):\n",
    "        \"\"\"\n",
    "        Used to retrieve values from the calculator. E.g. initial deposit\n",
    "        :param field: name of the field\n",
    "        :return:\n",
    "        \"\"\"\n",
    "        return getattr(self, field)\n",
    "\n",
    "    def change_fund(self, name: str):\n",
    "        \"\"\"\n",
    "        Change the fund selected for the calculation\n",
    "        :param name: Name of the fund\n",
    "        :return:\n",
    "        \"\"\"\n",
    "        self.fund = Fund.value_from(name)\n",
    "\n",
    "    def change_amount(self, field: str, value, action_string: str):\n",
    "        \"\"\"\n",
    "        Used to change a property on the calculator. E.g. initial deposit, contribution amount e.t.c\n",
    "        :param field: calculator property\n",
    "        :param value: Any\n",
    "        :param action_string: ADD | SUBTRACT | SET\n",
    "        :return: the updated field value\n",
    "        \"\"\"\n",
    "        action = ActionType.value_from(action_string)\n",
    "        change = getattr(self, field)\n",
    "\n",
    "        if action == ActionType.ADD:\n",
    "            change += value\n",
    "        elif action == ActionType.SUBTRACT:\n",
    "            change -= value\n",
    "        elif action == ActionType.SET:\n",
    "            change = value\n",
    "\n",
    "        if change >= 0:\n",
    "            setattr(self, field, change)\n",
    "            return change\n",
    "        return getattr(self, field)\n",
    "\n",
    "    def calculate_future_values(self):\n",
    "        \"\"\"\n",
    "        Calculates the future value\n",
    "        \"\"\"\n",
    "        current_year = datetime.now().year\n",
    "        labels = [year for year in range(current_year, current_year + int(self.investment_timespan))]\n",
    "        principal_dataset = {\n",
    "            \"label\": 'Total Principal',\n",
    "            \"backgroundColor\": 'rgb(0, 123, 255)',\n",
    "            \"data\": []\n",
    "        }\n",
    "        earnings_dataset = {\n",
    "            \"label\": \"Total Earnings\",\n",
    "            \"backgroundColor\": 'rgb(23, 162, 184)',\n",
    "            \"data\": []\n",
    "        }\n",
    "\n",
    "        self.future_balance = 0\n",
    "\n",
    "        for time in range(1, self.investment_timespan + 1):\n",
    "            principal = self.initial_deposit + (self.contribution_amount * self.contribution_period * time)\n",
    "            earnings = 0\n",
    "            balance = principal\n",
    "            estimated_return = self.fund.returns / 100\n",
    "\n",
    "            if estimated_return:\n",
    "                gains = (1 + estimated_return / self.compound_period) ** (self.compound_period * time)\n",
    "                compound_earnings = self.initial_deposit * gains\n",
    "                contribution_earnings = self.contribution_amount * (gains - 1) / (estimated_return / self.contribution_period)\n",
    "                earnings = compound_earnings + contribution_earnings - principal\n",
    "                balance = compound_earnings + contribution_earnings\n",
    "\n",
    "            self.future_balance = balance\n",
    "            principal_dataset['data'].append(round(principal, 2))\n",
    "            earnings_dataset['data'].append(round(earnings, 2))\n",
    "\n",
    "        return {\n",
    "            \"labels\": labels,\n",
    "            \"datasets\": [principal_dataset, earnings_dataset],\n",
    "        }\n"
   ]
  },
  {
   "cell_type": "code",
   "execution_count": 44,
   "metadata": {},
   "outputs": [],
   "source": [
    "%%bash\n",
    "source venv/bin/activate\n",
    "\n",
    "python main.py > /dev/null 2>&1"
   ]
  },
  {
   "cell_type": "markdown",
   "metadata": {},
   "source": [
    "# Congratulations! Done! On to more programming!"
   ]
  },
  {
   "cell_type": "code",
   "execution_count": null,
   "metadata": {},
   "outputs": [],
   "source": []
  }
 ],
 "metadata": {
  "kernelspec": {
   "display_name": "fincal_env",
   "language": "python",
   "name": "fincal_env"
  },
  "language_info": {
   "codemirror_mode": {
    "name": "ipython",
    "version": 3
   },
   "file_extension": ".py",
   "mimetype": "text/x-python",
   "name": "python",
   "nbconvert_exporter": "python",
   "pygments_lexer": "ipython3",
   "version": "3.7.3"
  }
 },
 "nbformat": 4,
 "nbformat_minor": 1
}
