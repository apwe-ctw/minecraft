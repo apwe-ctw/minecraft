{
 "cells": [
  {
   "cell_type": "code",
   "execution_count": null,
   "metadata": {
    "collapsed": false
   },
   "outputs": [],
   "source": [
    "# run this code first, only need to run it once\n",
    "import RPi.GPIO as GPIO\n",
    "import mcpi.minecraft as minecraft\n",
    "import mcpi.block as block\n",
    "from picamera import PiCamera\n",
    "from time import sleep\n",
    "import datetime\n",
    "\n",
    "mc = minecraft.Minecraft.create()"
   ]
  },
  {
   "cell_type": "code",
   "execution_count": null,
   "metadata": {
    "collapsed": true
   },
   "outputs": [],
   "source": [
    "def teleport():\n",
    "    mc.player.setPos(0, 100, 0)\n",
    "\n",
    "def flash(code, t):\n",
    "    GPIO.output(code, True)\n",
    "    sleep(t)\n",
    "    GPIO.output(code, False)\n",
    "    sleep(t)\n",
    "\n",
    "def bulldoze():\n",
    "    x, y, z, = mc.player.getTilePos()\n",
    "    mc.setBlocks(x-10, 0, z-10, x+10, 20, z+10, block.AIR)"
   ]
  },
  {
   "cell_type": "code",
   "execution_count": null,
   "metadata": {
    "collapsed": true
   },
   "outputs": [],
   "source": [
    "def photobooth(LED):\n",
    "    x, y, z, = mc.player.getTilePos()\n",
    "    mc.setBlocks(x+3, y, z+3, x+5, y+2, z+5, block.GLOWING_OBSIDIAN)\n",
    "    mc.setBlocks(x+3, y, z+4, x+4, y+1, z+4, block.AIR)\n",
    "    \n",
    "    GPIO.setmode(GPIO.BCM)\n",
    "    GPIO.setup(LED, GPIO.OUT)\n",
    "    \n",
    "    camera = PiCamera()\n",
    "\n",
    "    try:\n",
    "        while True:\n",
    "            pos = mc.player.getTilePos()\n",
    "            if (pos.x, pos.y, pos.z) == (x+4, y, z+4):\n",
    "                mc.postToChat(\"You are in the Photobooth!\")\n",
    "                sleep(1)\n",
    "                mc.postToChat(\"Smile!\")\n",
    "                flash(LED, 0.5) #1s\n",
    "                camera.start_preview()\n",
    "                flash(LED, 0.5) #1s\n",
    "                flash(LED, 0.5) #1s\n",
    "                camera.capture('/home/pi/Desktop/image%s.jpg' % datetime.datetime.now().isoformat())\n",
    "                camera.stop_preview()\n",
    "            sleep(3)\n",
    "    finally:\n",
    "        camera.stop_preview()\n",
    "        camera.close()\n",
    "        GPIO.cleanup()"
   ]
  },
  {
   "cell_type": "code",
   "execution_count": null,
   "metadata": {
    "collapsed": true
   },
   "outputs": [],
   "source": [
    "def lava():\n",
    "    x, y, z, = mc.player.getTilePos()\n",
    "    mc.setBlocks(x+4, 4, z+4, x+5, 5, z+5, block.LAVA.id)\n",
    "\n",
    "def water():\n",
    "    x, y, z, = mc.player.getTilePos()\n",
    "    mc.setBlocks(x+4, 4, z+4, x+5, 5, z+5, block.WATER.id)\n",
    "\n",
    "def tnt():\n",
    "    x, y, z, = mc.player.getTilePos()\n",
    "    mc.setBlocks(x+4, 0, z+4, x+5, 1, z+5, block.TNT.id, 1)\n",
    "\n",
    "def tower():\n",
    "    x, y, z, = mc.player.getTilePos()\n",
    "    mc.setBlocks(x+3, 0, z+3, x+3, 200, z+3, block.MELON.id)"
   ]
  },
  {
   "cell_type": "code",
   "execution_count": null,
   "metadata": {
    "collapsed": true
   },
   "outputs": [],
   "source": [
    "def do_with_countdown(BUTTON, LED_LIST, action):\n",
    "    GPIO.setmode(GPIO.BCM)\n",
    "    GPIO.setup(BUTTON, GPIO.IN, pull_up_down=GPIO.PUD_UP)\n",
    "\n",
    "    for LED in LED_LIST:\n",
    "        GPIO.setmode(GPIO.BCM)\n",
    "        GPIO.setup(LED, GPIO.OUT)\n",
    "\n",
    "    try:\n",
    "        for LED in LED_LIST:\n",
    "            GPIO.output(LED, True)\n",
    "\n",
    "        while GPIO.input(BUTTON):\n",
    "            sleep(0.1)\n",
    "\n",
    "        print(\"button pressed\")\n",
    "\n",
    "        for LED in LED_LIST:\n",
    "            sleep(1)\n",
    "            GPIO.output(LED, False)\n",
    "        sleep(1)\n",
    "        action();\n",
    "\n",
    "    finally:\n",
    "        GPIO.cleanup()"
   ]
  },
  {
   "cell_type": "code",
   "execution_count": null,
   "metadata": {
    "collapsed": true
   },
   "outputs": [],
   "source": [
    "def do_on_press(BUTTON, action):\n",
    "    GPIO.setmode(GPIO.BCM)\n",
    "    GPIO.setup(BUTTON, GPIO.IN, pull_up_down=GPIO.PUD_UP)\n",
    "    try:\n",
    "        while GPIO.input(BUTTON):\n",
    "            sleep(0.1)\n",
    "        print(\"button pressed\")\n",
    "        action();\n",
    "\n",
    "    finally:\n",
    "        GPIO.cleanup()"
   ]
  },
  {
   "cell_type": "markdown",
   "metadata": {},
   "source": [
    "# Minecraft!\n",
    "- What is Minecraft?\n",
    "    - [What is Minecraft all about?](http://minemum.com/what-is-minecraft)\n",
    "  - What is Minecraft Pi? (features and limitations)\n",
    "    - [Pi Edition](http://minecraft.gamepedia.com/Pi_Edition)\n",
    "  - Play the game!\n",
    "    - Menu -> Minecraft\n",
    "    - Start Game -> Create New (you can create new worlds till you get one you like)\n",
    "    \n",
    "- Keys:\n",
    "  \n",
    "Key | Action \n",
    "--- | ------\n",
    "W\t| Forward\n",
    "A\t| Left \n",
    "S\t| Backward \n",
    "D\t|\tRight\n",
    "Left-click | Hit\n",
    "Right-click | Place block\n",
    "Mouse-scroll | Hotbar select\n",
    "E\t|\tInventory\n",
    "Space\t|\tJump / Fly up\n",
    "Left Shift | Crouch / Fly down\n",
    "Double Space\t|\tFly / Fall\n",
    "Esc\t| Pause / Game menu\n",
    "Tab\t| Release mouse cursor"
   ]
  },
  {
   "cell_type": "markdown",
   "metadata": {},
   "source": [
    "# Photobooth\n",
    "Walk inside the photobooth and see what happens!\n",
    "![Photobooth](screenshots/photobooth.png)"
   ]
  },
  {
   "cell_type": "code",
   "execution_count": null,
   "metadata": {
    "collapsed": true
   },
   "outputs": [],
   "source": [
    "teleport()"
   ]
  },
  {
   "cell_type": "code",
   "execution_count": null,
   "metadata": {
    "collapsed": true
   },
   "outputs": [],
   "source": [
    "bulldoze()"
   ]
  },
  {
   "cell_type": "code",
   "execution_count": null,
   "metadata": {
    "collapsed": false
   },
   "outputs": [],
   "source": [
    "photobooth(17)"
   ]
  },
  {
   "cell_type": "markdown",
   "metadata": {},
   "source": [
    "# What can you do with electronics?\n",
    "![three_led_pushbutton](images/three_leds_pushbutton.jpg)"
   ]
  },
  {
   "cell_type": "code",
   "execution_count": null,
   "metadata": {
    "collapsed": false
   },
   "outputs": [],
   "source": [
    "do_with_countdown(4, [17], water)"
   ]
  },
  {
   "cell_type": "code",
   "execution_count": null,
   "metadata": {
    "collapsed": false
   },
   "outputs": [],
   "source": [
    "do_on_press(4, bulldoze)"
   ]
  },
  {
   "cell_type": "code",
   "execution_count": null,
   "metadata": {
    "collapsed": true
   },
   "outputs": [],
   "source": []
  }
 ],
 "metadata": {
  "kernelspec": {
   "display_name": "Python 2",
   "language": "python",
   "name": "python2"
  },
  "language_info": {
   "codemirror_mode": {
    "name": "ipython",
    "version": 2
   },
   "file_extension": ".py",
   "mimetype": "text/x-python",
   "name": "python",
   "nbconvert_exporter": "python",
   "pygments_lexer": "ipython2",
   "version": "2.7.9"
  }
 },
 "nbformat": 4,
 "nbformat_minor": 1
}
