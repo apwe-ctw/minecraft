{
 "cells": [
  {
   "cell_type": "markdown",
   "metadata": {},
   "source": [
    "# Electronics / GPIO (General Purpose IO)\n",
    "\n",
    "## Introduction\n",
    "\n",
    "A **Breadboard** is a reusbale device with a number of holes into which you push wires or components to create circuits. Breadboards  allow you to create circuits without needing to solder all the components. The two rows of holes at the top and bottom are for power.\n",
    "![Empty Breadboard](images/breadboard_empty.jpg)\n",
    "\n",
    "**Voltage** is the difference in electrical energy between two points in a circuit. This difference allows current to flow in a circuit, like water pressure in pipes. Voltage is measured in volts (V).\n",
    "\n",
    "An **LED** (Light-Emitting Diode) ligts up when electricty passes through it. A diode only allows current to pass in one direction and will only light up if you pass your current in the correct direction. LEDs have one short leg (cathode or negative) and one long leg (anode or positive).\n",
    "\n",
    "A **resistor** resists or limits current in a circuit. An LED can be damaged by too much current and adding a resistor of the correct value will limit the amount of current and the LED will be protected. Resistance is measured in Ohms and the value of a resistor is shown by coloured bands that are read from left to right. You can read more about color code on [wikipedia](https://en.wikipedia.org/wiki/Electronic_color_code). \n",
    "\n",
    "A **current** is the rate at which electrical energy flows through a circuit and is measured in amperes (A) or amps. Smaller currents are measured in milliApms (mA). You can read more about circuits [here](http://www.allaboutcircuits.com/textbook/direct-current/#chpt-1)."
   ]
  },
  {
   "cell_type": "markdown",
   "metadata": {},
   "source": [
    "\n",
    "## Setup instructions\n",
    "* The Raspberry PI should be up and running, no need to shut it down.\n",
    "* Insert the breakout board into the breadboard, being careful to line up the pins like on the picture below.\n",
    "* Connect the header cable between the Raspberry PI and the breakout board with the correct orientation (look at the red part of the cable ribbon).\n",
    "\n",
    "![Empty Breadboard](images/breadboard_empty.jpg)\n",
    "\n",
    "![RPI and Breadboard](images/rpi_and_breadboard.jpg)\n",
    "\n",
    "Through the rest of the lesson, keep the breadboard oriented in a way that the \n",
    "lettering on the breakout board is visible to you (i.e. you should see SDA, GND, \n",
    "etc).\n"
   ]
  },
  {
   "cell_type": "markdown",
   "metadata": {},
   "source": [
    "## A simple circuit\n",
    "\n",
    "- Connect an LED, a 330 Ohm resistor and two short wires to the positive + (red line) and negative - (blue line) rows as shown.\n",
    "\n",
    "![Single LED](images/led_setup.jpg)\n"
   ]
  },
  {
   "cell_type": "markdown",
   "metadata": {},
   "source": [
    "## A programmable circuit\n",
    "\n",
    "- Connect the positive + wire to GPIO pin 17.\n",
    "\n",
    "![Single LED](images/blinking_led_setup.jpg)"
   ]
  },
  {
   "cell_type": "code",
   "execution_count": null,
   "metadata": {
    "collapsed": true
   },
   "outputs": [],
   "source": [
    "# run this code first, only need to run it once\n",
    "from minecraft_utils import *"
   ]
  },
  {
   "cell_type": "markdown",
   "metadata": {},
   "source": [
    "**Flash LED only once**. You should see the light turn on for one second.\n",
    "* can you make it turn on for 5 seconds ?"
   ]
  },
  {
   "cell_type": "code",
   "execution_count": null,
   "metadata": {
    "collapsed": true
   },
   "outputs": [],
   "source": [
    "LED = 17\n",
    "GPIO.setmode(GPIO.BCM)\n",
    "GPIO.setup(LED, GPIO.OUT)  # setup for output\n",
    "\n",
    "GPIO.output(LED, True)\n",
    "time.sleep(1.0)\n",
    "\n",
    "GPIO.cleanup()  # reset GPIO and disble circuitry"
   ]
  },
  {
   "cell_type": "markdown",
   "metadata": {},
   "source": [
    "**Try it!** Make your LED flash forever\n",
    "* Will this program work ? Try it\n",
    "* If it doesn't work, fix it !"
   ]
  },
  {
   "cell_type": "code",
   "execution_count": null,
   "metadata": {
    "collapsed": false
   },
   "outputs": [],
   "source": [
    "LED = 17\n",
    "GPIO.setmode(GPIO.BCM)\n",
    "GPIO.setup(LED, GPIO.OUT)\n",
    "\n",
    "def flash(t):\n",
    "    GPIO.output(LED, True)  # LED on\n",
    "    time.sleep(t)\n",
    "    GPIO.output(LED, False) # LED off\n",
    "    time.sleep(t)\n",
    "\n",
    "try:\n",
    "    while True:\n",
    "        flash(seconds)  # how many seconds to flash?\n",
    "finally:\n",
    "    GPIO.cleanup()"
   ]
  },
  {
   "cell_type": "markdown",
   "metadata": {},
   "source": [
    "**Try it!** \n",
    "Can you add more LEDs and make them flash?"
   ]
  },
  {
   "cell_type": "code",
   "execution_count": null,
   "metadata": {
    "collapsed": false
   },
   "outputs": [],
   "source": [
    "GPIO.setmode(GPIO.BCM)\n",
    "LED_LIST = [17]  # add more!!\n",
    "\n",
    "for LED in LED_LIST:\n",
    "    GPIO.setup(LED, GPIO.OUT)\n",
    "\n",
    "def flash(LED, t):\n",
    "    GPIO.output(LED, True)  # LED on\n",
    "    time.sleep(t)\n",
    "    GPIO.output(LED, False) # LED off\n",
    "    time.sleep(t)\n",
    "\n",
    "try:\n",
    "    while True:\n",
    "        for LED in LED_LIST:\n",
    "            flash(LED, 0.2)  # how many seconds to flash?\n",
    "finally:\n",
    "    GPIO.cleanup()"
   ]
  },
  {
   "cell_type": "markdown",
   "metadata": {},
   "source": [
    "## Programmable Button\n",
    "\n",
    "- Add a button to the circuit: the button has four pins and fits nicely accross the midway point of the breadboard.\n",
    "- Connect the button to GPIO pin 4 (positive +) and GND (negative -) as shown.\n",
    "- When the button is not pressed (and no connection is made) the wire that connects the GPIO will be at 3.3 volts and the GPIO pin will interpret this as signal '1' or True (try printing the value of `GPIO.input(BUTTON)`). When you press the button, the circuit between the left and right hand pins will be completed abnd the GPIO wire is 'pulled down' to 0 volts. Now the GPIO pin will interpret the signal as '0' or False.\n",
    " \n",
    "![pushbutton](images/pushbutton.jpg)"
   ]
  },
  {
   "cell_type": "code",
   "execution_count": null,
   "metadata": {
    "collapsed": false
   },
   "outputs": [],
   "source": [
    "BUTTON = 4\n",
    "GPIO.setmode(GPIO.BCM)\n",
    "GPIO.setup(BUTTON, GPIO.IN, pull_up_down=GPIO.PUD_UP)   # setup for input\n",
    "\n",
    "try:\n",
    "    while GPIO.input(BUTTON) == True:\n",
    "        time.sleep(0.2)\n",
    "      \n",
    "    mc.postToChat('Button pressed!')\n",
    "    \n",
    "finally:\n",
    "    GPIO.cleanup()  # reset GPIO and disable circuitry"
   ]
  },
  {
   "cell_type": "markdown",
   "metadata": {},
   "source": [
    "## Magic button\n",
    "\n",
    "Using the circuit above, you can program your button to do whatever you want, like blowing things up or building a house (or castle? try calling castle()) in minecraft.\n"
   ]
  },
  {
   "cell_type": "code",
   "execution_count": null,
   "metadata": {
    "collapsed": false
   },
   "outputs": [],
   "source": [
    "BUTTON = 4\n",
    "GPIO.setmode(GPIO.BCM)\n",
    "GPIO.setup(BUTTON, GPIO.IN, pull_up_down=GPIO.PUD_UP)   # setup for input\n",
    "\n",
    "def doSomethingMagical():\n",
    "    bomb()\n",
    "\n",
    "try:\n",
    "    while GPIO.input(BUTTON) == True:\n",
    "        time.sleep(0.2)\n",
    "    mc.postToChat('Button pressed!')\n",
    "    doSomethingMagical()\n",
    "    \n",
    "finally:\n",
    "    GPIO.cleanup()  # reset GPIO and disable circuitry"
   ]
  },
  {
   "cell_type": "markdown",
   "metadata": {},
   "source": [
    "Can we add some LEDs for countdown?"
   ]
  },
  {
   "cell_type": "code",
   "execution_count": null,
   "metadata": {
    "collapsed": true
   },
   "outputs": [],
   "source": [
    "LED_LIST = [17]  # add more!!\n",
    "BUTTON = 4\n",
    "GPIO.setmode(GPIO.BCM)\n",
    "GPIO.setup(BUTTON, GPIO.IN, pull_up_down=GPIO.PUD_UP)   # setup for input\n",
    "\n",
    "for LED in LED_LIST:\n",
    "    GPIO.setmode(GPIO.BCM)\n",
    "    GPIO.setup(LED, GPIO.OUT)\n",
    "\n",
    "def doSomethingMagical():\n",
    "    bomb()\n",
    "\n",
    "try:\n",
    "    for LED in LED_LIST:\n",
    "            GPIO.output(LED, True)\n",
    "    while GPIO.input(BUTTON) == True:\n",
    "        time.sleep(0.2)\n",
    "    mc.postToChat('Button pressed!')\n",
    "    for LED in LED_LIST:\n",
    "        time.sleep(1)\n",
    "        GPIO.output(LED, False)\n",
    "    time.sleep(1)\n",
    "    doSomethingMagical()\n",
    "    \n",
    "finally:\n",
    "    GPIO.cleanup()  # reset GPIO and disable circuitry"
   ]
  },
  {
   "cell_type": "markdown",
   "metadata": {},
   "source": [
    "## Smart home lighting\n",
    "\n",
    "Using the flashing LED circuit you've created above, we will create an **Smart lighting for your house**. It will detect whether there's someone in the house and turn the light on and off automatically (isn't it nice?)\n",
    "\n",
    "- Build a rectangular fence like on the screenshot below, or use a house that you've created previously.\n",
    "- Previously, we're written some code to react based on your position compared to a wall. \n",
    "- The code will be similar, will need to figure out whether your current position is:\n",
    "  - below the northern wall\n",
    "  - above the southern wall\n",
    "  - right of the leftmost wall\n",
    "  - left of the rightmost wall\n",
    "- Once the code is written, test it out by jumping in and out of your fence. The LED should light up when inside, and turn off when outside.\n",
    "\n",
    "![LED Fence](screenshots/led_fence.png)\n"
   ]
  },
  {
   "cell_type": "code",
   "execution_count": null,
   "metadata": {
    "collapsed": false
   },
   "outputs": [],
   "source": [
    "LED = 17\n",
    "GPIO.setmode(GPIO.BCM)\n",
    "GPIO.setup(LED, GPIO.OUT)\n",
    "\n",
    "# the function below is not complete. It's your job to make it work !\n",
    "def inside_house():\n",
    "    return False\n",
    "\n",
    "try:\n",
    "    while True:\n",
    "        if inside_house():\n",
    "            GPIO.output(LED, True)  # LED on\n",
    "        else:\n",
    "            GPIO.output(LED, False)  # LED off\n",
    "            \n",
    "finally:\n",
    "    GPIO.cleanup()"
   ]
  },
  {
   "cell_type": "markdown",
   "metadata": {},
   "source": [
    "**Well done!** Now try apply what you just learnt and create something amazing!"
   ]
  },
  {
   "cell_type": "code",
   "execution_count": null,
   "metadata": {
    "collapsed": true
   },
   "outputs": [],
   "source": []
  }
 ],
 "metadata": {
  "kernelspec": {
   "display_name": "Python 2",
   "language": "python",
   "name": "python2"
  },
  "language_info": {
   "codemirror_mode": {
    "name": "ipython",
    "version": 2
   },
   "file_extension": ".py",
   "mimetype": "text/x-python",
   "name": "python",
   "nbconvert_exporter": "python",
   "pygments_lexer": "ipython2",
   "version": "2.7.9"
  }
 },
 "nbformat": 4,
 "nbformat_minor": 0
}
